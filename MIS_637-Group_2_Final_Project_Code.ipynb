{
 "cells": [
  {
   "cell_type": "code",
   "execution_count": 1,
   "metadata": {
    "executionInfo": {
     "elapsed": 94,
     "status": "ok",
     "timestamp": 1712349881008,
     "user": {
      "displayName": "Akshat Sahu",
      "userId": "04820876765146263380"
     },
     "user_tz": 240
    },
    "id": "gD_5UjxLiGA6"
   },
   "outputs": [],
   "source": [
    "# Importing all the required libraries\n",
    "import pandas as pd\n",
    "import numpy as np\n",
    "import matplotlib.pyplot as plt\n",
    "import seaborn as sns"
   ]
  },
  {
   "cell_type": "markdown",
   "metadata": {
    "id": "-SXL7rc0tzqG"
   },
   "source": [
    "**Importing Two Datasets, one contains Normal Tweets and One Contains Depressive tweets**\n",
    "\n"
   ]
  },
  {
   "cell_type": "code",
   "execution_count": 2,
   "metadata": {
    "executionInfo": {
     "elapsed": 104,
     "status": "ok",
     "timestamp": 1712349881111,
     "user": {
      "displayName": "Akshat Sahu",
      "userId": "04820876765146263380"
     },
     "user_tz": 240
    },
    "id": "mJeBL8cEiGLG"
   },
   "outputs": [],
   "source": [
    "normal_tweets = pd.read_csv(\"Normal_Tweets.csv\")"
   ]
  },
  {
   "cell_type": "code",
   "execution_count": 3,
   "metadata": {
    "colab": {
     "base_uri": "https://localhost:8080/",
     "height": 206
    },
    "executionInfo": {
     "elapsed": 357,
     "status": "ok",
     "timestamp": 1712349881468,
     "user": {
      "displayName": "Akshat Sahu",
      "userId": "04820876765146263380"
     },
     "user_tz": 240
    },
    "id": "Sp4PXRxyzVv6",
    "outputId": "d743fc01-7585-4639-b413-3df64b85848e"
   },
   "outputs": [
    {
     "data": {
      "text/html": [
       "<div>\n",
       "<style scoped>\n",
       "    .dataframe tbody tr th:only-of-type {\n",
       "        vertical-align: middle;\n",
       "    }\n",
       "\n",
       "    .dataframe tbody tr th {\n",
       "        vertical-align: top;\n",
       "    }\n",
       "\n",
       "    .dataframe thead th {\n",
       "        text-align: right;\n",
       "    }\n",
       "</style>\n",
       "<table border=\"1\" class=\"dataframe\">\n",
       "  <thead>\n",
       "    <tr style=\"text-align: right;\">\n",
       "      <th></th>\n",
       "      <th>Tweet_ID</th>\n",
       "      <th>Username</th>\n",
       "      <th>Text</th>\n",
       "      <th>Retweets</th>\n",
       "      <th>Likes</th>\n",
       "      <th>Timestamp</th>\n",
       "    </tr>\n",
       "  </thead>\n",
       "  <tbody>\n",
       "    <tr>\n",
       "      <th>0</th>\n",
       "      <td>1</td>\n",
       "      <td>julie81</td>\n",
       "      <td>Party least receive say or single. Prevent pre...</td>\n",
       "      <td>2</td>\n",
       "      <td>25</td>\n",
       "      <td>2023-01-30 11:00:51</td>\n",
       "    </tr>\n",
       "    <tr>\n",
       "      <th>1</th>\n",
       "      <td>2</td>\n",
       "      <td>richardhester</td>\n",
       "      <td>Hotel still Congress may member staff. Media d...</td>\n",
       "      <td>35</td>\n",
       "      <td>29</td>\n",
       "      <td>2023-01-02 22:45:58</td>\n",
       "    </tr>\n",
       "    <tr>\n",
       "      <th>2</th>\n",
       "      <td>3</td>\n",
       "      <td>williamsjoseph</td>\n",
       "      <td>Nice be her debate industry that year. Film wh...</td>\n",
       "      <td>51</td>\n",
       "      <td>25</td>\n",
       "      <td>2023-01-18 11:25:19</td>\n",
       "    </tr>\n",
       "    <tr>\n",
       "      <th>3</th>\n",
       "      <td>4</td>\n",
       "      <td>danielsmary</td>\n",
       "      <td>Laugh explain situation career occur serious. ...</td>\n",
       "      <td>37</td>\n",
       "      <td>18</td>\n",
       "      <td>2023-04-10 22:06:29</td>\n",
       "    </tr>\n",
       "    <tr>\n",
       "      <th>4</th>\n",
       "      <td>5</td>\n",
       "      <td>carlwarren</td>\n",
       "      <td>Involve sense former often approach government...</td>\n",
       "      <td>27</td>\n",
       "      <td>80</td>\n",
       "      <td>2023-01-24 07:12:21</td>\n",
       "    </tr>\n",
       "  </tbody>\n",
       "</table>\n",
       "</div>"
      ],
      "text/plain": [
       "   Tweet_ID        Username  \\\n",
       "0         1         julie81   \n",
       "1         2   richardhester   \n",
       "2         3  williamsjoseph   \n",
       "3         4     danielsmary   \n",
       "4         5      carlwarren   \n",
       "\n",
       "                                                Text  Retweets  Likes  \\\n",
       "0  Party least receive say or single. Prevent pre...         2     25   \n",
       "1  Hotel still Congress may member staff. Media d...        35     29   \n",
       "2  Nice be her debate industry that year. Film wh...        51     25   \n",
       "3  Laugh explain situation career occur serious. ...        37     18   \n",
       "4  Involve sense former often approach government...        27     80   \n",
       "\n",
       "             Timestamp  \n",
       "0  2023-01-30 11:00:51  \n",
       "1  2023-01-02 22:45:58  \n",
       "2  2023-01-18 11:25:19  \n",
       "3  2023-04-10 22:06:29  \n",
       "4  2023-01-24 07:12:21  "
      ]
     },
     "execution_count": 3,
     "metadata": {},
     "output_type": "execute_result"
    }
   ],
   "source": [
    "normal_tweets.head()"
   ]
  },
  {
   "cell_type": "code",
   "execution_count": 4,
   "metadata": {
    "executionInfo": {
     "elapsed": 342,
     "status": "ok",
     "timestamp": 1712349881808,
     "user": {
      "displayName": "Akshat Sahu",
      "userId": "04820876765146263380"
     },
     "user_tz": 240
    },
    "id": "ADW0u4bqzV4q"
   },
   "outputs": [],
   "source": [
    "depressive_tweets = pd.read_csv(\"depressive_tweets.csv\")"
   ]
  },
  {
   "cell_type": "code",
   "execution_count": 5,
   "metadata": {
    "colab": {
     "base_uri": "https://localhost:8080/",
     "height": 206
    },
    "executionInfo": {
     "elapsed": 303,
     "status": "ok",
     "timestamp": 1712349882110,
     "user": {
      "displayName": "Akshat Sahu",
      "userId": "04820876765146263380"
     },
     "user_tz": 240
    },
    "id": "0ZvhahZgzphp",
    "outputId": "80cf20ac-d449-4fb2-bb0b-fe6338d6b0f1"
   },
   "outputs": [
    {
     "data": {
      "text/html": [
       "<div>\n",
       "<style scoped>\n",
       "    .dataframe tbody tr th:only-of-type {\n",
       "        vertical-align: middle;\n",
       "    }\n",
       "\n",
       "    .dataframe tbody tr th {\n",
       "        vertical-align: top;\n",
       "    }\n",
       "\n",
       "    .dataframe thead th {\n",
       "        text-align: right;\n",
       "    }\n",
       "</style>\n",
       "<table border=\"1\" class=\"dataframe\">\n",
       "  <thead>\n",
       "    <tr style=\"text-align: right;\">\n",
       "      <th></th>\n",
       "      <th>Unnamed: 0</th>\n",
       "      <th>tweet.id</th>\n",
       "      <th>created_at</th>\n",
       "      <th>text</th>\n",
       "      <th>location</th>\n",
       "      <th>retweet</th>\n",
       "      <th>favorite</th>\n",
       "    </tr>\n",
       "  </thead>\n",
       "  <tbody>\n",
       "    <tr>\n",
       "      <th>0</th>\n",
       "      <td>0</td>\n",
       "      <td>1447537898572574730</td>\n",
       "      <td>2021-10-11 12:21:43</td>\n",
       "      <td>Open discussion. Between the Transfer Portal a...</td>\n",
       "      <td>Cheyenne Wyoming</td>\n",
       "      <td>0</td>\n",
       "      <td>0</td>\n",
       "    </tr>\n",
       "    <tr>\n",
       "      <th>1</th>\n",
       "      <td>1</td>\n",
       "      <td>1447540582490988553</td>\n",
       "      <td>2021-10-11 12:32:23</td>\n",
       "      <td>Plenty of things are changing in my life and t...</td>\n",
       "      <td>NaN</td>\n",
       "      <td>0</td>\n",
       "      <td>0</td>\n",
       "    </tr>\n",
       "    <tr>\n",
       "      <th>2</th>\n",
       "      <td>2</td>\n",
       "      <td>1447807717859491842</td>\n",
       "      <td>2021-10-12 06:13:53</td>\n",
       "      <td>I feel a little hopeless. Anyone else? #hopele...</td>\n",
       "      <td>NaN</td>\n",
       "      <td>0</td>\n",
       "      <td>0</td>\n",
       "    </tr>\n",
       "    <tr>\n",
       "      <th>3</th>\n",
       "      <td>3</td>\n",
       "      <td>1448076026219692033</td>\n",
       "      <td>2021-10-13 00:00:03</td>\n",
       "      <td>Which is more healthy? Hope, or hopelessness? ...</td>\n",
       "      <td>Denver, CO</td>\n",
       "      <td>0</td>\n",
       "      <td>0</td>\n",
       "    </tr>\n",
       "    <tr>\n",
       "      <th>4</th>\n",
       "      <td>4</td>\n",
       "      <td>1448382047375040513</td>\n",
       "      <td>2021-10-13 20:16:04</td>\n",
       "      <td>So someone tell me how do I get over #HOPELESS...</td>\n",
       "      <td>Portland Or .</td>\n",
       "      <td>0</td>\n",
       "      <td>2</td>\n",
       "    </tr>\n",
       "  </tbody>\n",
       "</table>\n",
       "</div>"
      ],
      "text/plain": [
       "   Unnamed: 0             tweet.id           created_at  \\\n",
       "0           0  1447537898572574730  2021-10-11 12:21:43   \n",
       "1           1  1447540582490988553  2021-10-11 12:32:23   \n",
       "2           2  1447807717859491842  2021-10-12 06:13:53   \n",
       "3           3  1448076026219692033  2021-10-13 00:00:03   \n",
       "4           4  1448382047375040513  2021-10-13 20:16:04   \n",
       "\n",
       "                                                text          location  \\\n",
       "0  Open discussion. Between the Transfer Portal a...  Cheyenne Wyoming   \n",
       "1  Plenty of things are changing in my life and t...               NaN   \n",
       "2  I feel a little hopeless. Anyone else? #hopele...               NaN   \n",
       "3  Which is more healthy? Hope, or hopelessness? ...        Denver, CO   \n",
       "4  So someone tell me how do I get over #HOPELESS...    Portland Or .    \n",
       "\n",
       "   retweet  favorite  \n",
       "0        0         0  \n",
       "1        0         0  \n",
       "2        0         0  \n",
       "3        0         0  \n",
       "4        0         2  "
      ]
     },
     "execution_count": 5,
     "metadata": {},
     "output_type": "execute_result"
    }
   ],
   "source": [
    "depressive_tweets.head()"
   ]
  },
  {
   "cell_type": "code",
   "execution_count": 6,
   "metadata": {
    "colab": {
     "base_uri": "https://localhost:8080/"
    },
    "executionInfo": {
     "elapsed": 4,
     "status": "ok",
     "timestamp": 1712349882110,
     "user": {
      "displayName": "Akshat Sahu",
      "userId": "04820876765146263380"
     },
     "user_tz": 240
    },
    "id": "oU7VwgOS0CBq",
    "outputId": "7db9dfa2-e5fc-4f82-8e6f-00189396b34b"
   },
   "outputs": [
    {
     "data": {
      "text/plain": [
       "(24147, 7)"
      ]
     },
     "execution_count": 6,
     "metadata": {},
     "output_type": "execute_result"
    }
   ],
   "source": [
    "depressive_tweets.shape"
   ]
  },
  {
   "cell_type": "code",
   "execution_count": 7,
   "metadata": {
    "colab": {
     "base_uri": "https://localhost:8080/"
    },
    "executionInfo": {
     "elapsed": 3,
     "status": "ok",
     "timestamp": 1712349882110,
     "user": {
      "displayName": "Akshat Sahu",
      "userId": "04820876765146263380"
     },
     "user_tz": 240
    },
    "id": "jCmPrezG0CHi",
    "outputId": "2b455716-034a-4634-85ac-ec9a705cd4c5"
   },
   "outputs": [
    {
     "data": {
      "text/plain": [
       "(10000, 6)"
      ]
     },
     "execution_count": 7,
     "metadata": {},
     "output_type": "execute_result"
    }
   ],
   "source": [
    "normal_tweets.shape"
   ]
  },
  {
   "cell_type": "markdown",
   "metadata": {
    "id": "ryU9CIGE0PC9"
   },
   "source": [
    "Dropping Unnecessary Columns"
   ]
  },
  {
   "cell_type": "code",
   "execution_count": 8,
   "metadata": {
    "colab": {
     "base_uri": "https://localhost:8080/"
    },
    "executionInfo": {
     "elapsed": 2,
     "status": "ok",
     "timestamp": 1712349882110,
     "user": {
      "displayName": "Akshat Sahu",
      "userId": "04820876765146263380"
     },
     "user_tz": 240
    },
    "id": "zpx9WZTd0Tze",
    "outputId": "b28945f6-6101-4ac3-8758-1737cf269bd8"
   },
   "outputs": [
    {
     "data": {
      "text/plain": [
       "18190"
      ]
     },
     "execution_count": 8,
     "metadata": {},
     "output_type": "execute_result"
    }
   ],
   "source": [
    "len(depressive_tweets[\"tweet.id\"].unique())"
   ]
  },
  {
   "cell_type": "code",
   "execution_count": 9,
   "metadata": {
    "executionInfo": {
     "elapsed": 6,
     "status": "ok",
     "timestamp": 1712349882270,
     "user": {
      "displayName": "Akshat Sahu",
      "userId": "04820876765146263380"
     },
     "user_tz": 240
    },
    "id": "E-DUurkV5W0e"
   },
   "outputs": [],
   "source": [
    "depressive_tweets.drop(columns=[\"Unnamed: 0\"], inplace=True)"
   ]
  },
  {
   "cell_type": "code",
   "execution_count": 10,
   "metadata": {
    "executionInfo": {
     "elapsed": 6,
     "status": "ok",
     "timestamp": 1712349882270,
     "user": {
      "displayName": "Akshat Sahu",
      "userId": "04820876765146263380"
     },
     "user_tz": 240
    },
    "id": "qsswMhjf5j2E"
   },
   "outputs": [],
   "source": [
    "depressive_tweets.drop_duplicates(subset=[\"tweet.id\"], inplace=True)"
   ]
  },
  {
   "cell_type": "code",
   "execution_count": 11,
   "metadata": {
    "colab": {
     "base_uri": "https://localhost:8080/"
    },
    "executionInfo": {
     "elapsed": 6,
     "status": "ok",
     "timestamp": 1712349882270,
     "user": {
      "displayName": "Akshat Sahu",
      "userId": "04820876765146263380"
     },
     "user_tz": 240
    },
    "id": "5qZviNgR55AH",
    "outputId": "c90d3e47-5af0-4e62-d7c2-639f94a78b5b"
   },
   "outputs": [
    {
     "data": {
      "text/plain": [
       "(18190, 6)"
      ]
     },
     "execution_count": 11,
     "metadata": {},
     "output_type": "execute_result"
    }
   ],
   "source": [
    "depressive_tweets.shape"
   ]
  },
  {
   "cell_type": "code",
   "execution_count": 12,
   "metadata": {
    "colab": {
     "base_uri": "https://localhost:8080/"
    },
    "executionInfo": {
     "elapsed": 5,
     "status": "ok",
     "timestamp": 1712349882270,
     "user": {
      "displayName": "Akshat Sahu",
      "userId": "04820876765146263380"
     },
     "user_tz": 240
    },
    "id": "kVBrseNU5740",
    "outputId": "427c2bb5-3fcb-4c16-d187-88a4d494eb59"
   },
   "outputs": [
    {
     "data": {
      "text/plain": [
       "tweet.id         0\n",
       "created_at       0\n",
       "text             0\n",
       "location      6384\n",
       "retweet          0\n",
       "favorite         0\n",
       "dtype: int64"
      ]
     },
     "execution_count": 12,
     "metadata": {},
     "output_type": "execute_result"
    }
   ],
   "source": [
    "depressive_tweets.isnull().sum()"
   ]
  },
  {
   "cell_type": "code",
   "execution_count": 13,
   "metadata": {
    "colab": {
     "base_uri": "https://localhost:8080/"
    },
    "executionInfo": {
     "elapsed": 4,
     "status": "ok",
     "timestamp": 1712349882270,
     "user": {
      "displayName": "Akshat Sahu",
      "userId": "04820876765146263380"
     },
     "user_tz": 240
    },
    "id": "p5hfnQcD7GG9",
    "outputId": "6897b94a-40e3-44e6-d5af-c4bf8e265e3c"
   },
   "outputs": [
    {
     "data": {
      "text/plain": [
       "Tweet_ID     0\n",
       "Username     0\n",
       "Text         0\n",
       "Retweets     0\n",
       "Likes        0\n",
       "Timestamp    0\n",
       "dtype: int64"
      ]
     },
     "execution_count": 13,
     "metadata": {},
     "output_type": "execute_result"
    }
   ],
   "source": [
    "normal_tweets.isnull().sum()"
   ]
  },
  {
   "cell_type": "markdown",
   "metadata": {
    "id": "XsFgmxQs7Jm6"
   },
   "source": [
    "There are no missing values in the dataset"
   ]
  },
  {
   "cell_type": "markdown",
   "metadata": {
    "id": "tu2n6OAQ7ccQ"
   },
   "source": [
    "Creating two proper datasets for Normal Tweets and Depression Tweets and combining them in one"
   ]
  },
  {
   "cell_type": "code",
   "execution_count": 14,
   "metadata": {
    "executionInfo": {
     "elapsed": 95,
     "status": "ok",
     "timestamp": 1712349882363,
     "user": {
      "displayName": "Akshat Sahu",
      "userId": "04820876765146263380"
     },
     "user_tz": 240
    },
    "id": "qjLJFDNj7M2e"
   },
   "outputs": [],
   "source": [
    "temp_depression = depressive_tweets[[\"text\"]]"
   ]
  },
  {
   "cell_type": "code",
   "execution_count": 15,
   "metadata": {
    "colab": {
     "base_uri": "https://localhost:8080/",
     "height": 424
    },
    "executionInfo": {
     "elapsed": 116,
     "status": "ok",
     "timestamp": 1712349882478,
     "user": {
      "displayName": "Akshat Sahu",
      "userId": "04820876765146263380"
     },
     "user_tz": 240
    },
    "id": "R4BOnvub7qqS",
    "outputId": "eee6f728-7429-48eb-c600-b85207090b9f"
   },
   "outputs": [
    {
     "data": {
      "text/html": [
       "<div>\n",
       "<style scoped>\n",
       "    .dataframe tbody tr th:only-of-type {\n",
       "        vertical-align: middle;\n",
       "    }\n",
       "\n",
       "    .dataframe tbody tr th {\n",
       "        vertical-align: top;\n",
       "    }\n",
       "\n",
       "    .dataframe thead th {\n",
       "        text-align: right;\n",
       "    }\n",
       "</style>\n",
       "<table border=\"1\" class=\"dataframe\">\n",
       "  <thead>\n",
       "    <tr style=\"text-align: right;\">\n",
       "      <th></th>\n",
       "      <th>text</th>\n",
       "    </tr>\n",
       "  </thead>\n",
       "  <tbody>\n",
       "    <tr>\n",
       "      <th>0</th>\n",
       "      <td>Open discussion. Between the Transfer Portal a...</td>\n",
       "    </tr>\n",
       "    <tr>\n",
       "      <th>1</th>\n",
       "      <td>Plenty of things are changing in my life and t...</td>\n",
       "    </tr>\n",
       "    <tr>\n",
       "      <th>2</th>\n",
       "      <td>I feel a little hopeless. Anyone else? #hopele...</td>\n",
       "    </tr>\n",
       "    <tr>\n",
       "      <th>3</th>\n",
       "      <td>Which is more healthy? Hope, or hopelessness? ...</td>\n",
       "    </tr>\n",
       "    <tr>\n",
       "      <th>4</th>\n",
       "      <td>So someone tell me how do I get over #HOPELESS...</td>\n",
       "    </tr>\n",
       "    <tr>\n",
       "      <th>...</th>\n",
       "      <td>...</td>\n",
       "    </tr>\n",
       "    <tr>\n",
       "      <th>24142</th>\n",
       "      <td>Just got banned from a server F #sad</td>\n",
       "    </tr>\n",
       "    <tr>\n",
       "      <th>24143</th>\n",
       "      <td>I literally cried during my exam and the cam i...</td>\n",
       "    </tr>\n",
       "    <tr>\n",
       "      <th>24144</th>\n",
       "      <td>No one can be happy with a guy like me. That's...</td>\n",
       "    </tr>\n",
       "    <tr>\n",
       "      <th>24145</th>\n",
       "      <td>arrived at my house but Am I Home? #deep #sad ...</td>\n",
       "    </tr>\n",
       "    <tr>\n",
       "      <th>24146</th>\n",
       "      <td>Being spoken down to rn at @starbucks and reme...</td>\n",
       "    </tr>\n",
       "  </tbody>\n",
       "</table>\n",
       "<p>18190 rows × 1 columns</p>\n",
       "</div>"
      ],
      "text/plain": [
       "                                                    text\n",
       "0      Open discussion. Between the Transfer Portal a...\n",
       "1      Plenty of things are changing in my life and t...\n",
       "2      I feel a little hopeless. Anyone else? #hopele...\n",
       "3      Which is more healthy? Hope, or hopelessness? ...\n",
       "4      So someone tell me how do I get over #HOPELESS...\n",
       "...                                                  ...\n",
       "24142               Just got banned from a server F #sad\n",
       "24143  I literally cried during my exam and the cam i...\n",
       "24144  No one can be happy with a guy like me. That's...\n",
       "24145  arrived at my house but Am I Home? #deep #sad ...\n",
       "24146  Being spoken down to rn at @starbucks and reme...\n",
       "\n",
       "[18190 rows x 1 columns]"
      ]
     },
     "execution_count": 15,
     "metadata": {},
     "output_type": "execute_result"
    }
   ],
   "source": [
    "temp_depression"
   ]
  },
  {
   "cell_type": "code",
   "execution_count": 16,
   "metadata": {
    "executionInfo": {
     "elapsed": 3,
     "status": "ok",
     "timestamp": 1712349882478,
     "user": {
      "displayName": "Akshat Sahu",
      "userId": "04820876765146263380"
     },
     "user_tz": 240
    },
    "id": "scWgyGG47sVX"
   },
   "outputs": [],
   "source": [
    "normal_tweets.drop(\n",
    "    columns=[\"Tweet_ID\", \"Username\", \"Retweets\", \"Likes\", \"Timestamp\"], inplace=True\n",
    ")"
   ]
  },
  {
   "cell_type": "code",
   "execution_count": 17,
   "metadata": {
    "colab": {
     "base_uri": "https://localhost:8080/",
     "height": 206
    },
    "executionInfo": {
     "elapsed": 110,
     "status": "ok",
     "timestamp": 1712349882710,
     "user": {
      "displayName": "Akshat Sahu",
      "userId": "04820876765146263380"
     },
     "user_tz": 240
    },
    "id": "L-3Ye3RO86tc",
    "outputId": "cdc320f7-ea83-4ad3-94ac-be84bb9371ec"
   },
   "outputs": [
    {
     "data": {
      "text/html": [
       "<div>\n",
       "<style scoped>\n",
       "    .dataframe tbody tr th:only-of-type {\n",
       "        vertical-align: middle;\n",
       "    }\n",
       "\n",
       "    .dataframe tbody tr th {\n",
       "        vertical-align: top;\n",
       "    }\n",
       "\n",
       "    .dataframe thead th {\n",
       "        text-align: right;\n",
       "    }\n",
       "</style>\n",
       "<table border=\"1\" class=\"dataframe\">\n",
       "  <thead>\n",
       "    <tr style=\"text-align: right;\">\n",
       "      <th></th>\n",
       "      <th>Text</th>\n",
       "    </tr>\n",
       "  </thead>\n",
       "  <tbody>\n",
       "    <tr>\n",
       "      <th>0</th>\n",
       "      <td>Party least receive say or single. Prevent pre...</td>\n",
       "    </tr>\n",
       "    <tr>\n",
       "      <th>1</th>\n",
       "      <td>Hotel still Congress may member staff. Media d...</td>\n",
       "    </tr>\n",
       "    <tr>\n",
       "      <th>2</th>\n",
       "      <td>Nice be her debate industry that year. Film wh...</td>\n",
       "    </tr>\n",
       "    <tr>\n",
       "      <th>3</th>\n",
       "      <td>Laugh explain situation career occur serious. ...</td>\n",
       "    </tr>\n",
       "    <tr>\n",
       "      <th>4</th>\n",
       "      <td>Involve sense former often approach government...</td>\n",
       "    </tr>\n",
       "  </tbody>\n",
       "</table>\n",
       "</div>"
      ],
      "text/plain": [
       "                                                Text\n",
       "0  Party least receive say or single. Prevent pre...\n",
       "1  Hotel still Congress may member staff. Media d...\n",
       "2  Nice be her debate industry that year. Film wh...\n",
       "3  Laugh explain situation career occur serious. ...\n",
       "4  Involve sense former often approach government..."
      ]
     },
     "execution_count": 17,
     "metadata": {},
     "output_type": "execute_result"
    }
   ],
   "source": [
    "normal_tweets.head()"
   ]
  },
  {
   "cell_type": "code",
   "execution_count": 18,
   "metadata": {
    "executionInfo": {
     "elapsed": 3,
     "status": "ok",
     "timestamp": 1712349882711,
     "user": {
      "displayName": "Akshat Sahu",
      "userId": "04820876765146263380"
     },
     "user_tz": 240
    },
    "id": "cof2Dmfx-SQJ"
   },
   "outputs": [],
   "source": [
    "normal_tweets.rename(columns={\"Text\": \"text\"}, inplace=True)"
   ]
  },
  {
   "cell_type": "code",
   "execution_count": 19,
   "metadata": {
    "executionInfo": {
     "elapsed": 3,
     "status": "ok",
     "timestamp": 1712349882711,
     "user": {
      "displayName": "Akshat Sahu",
      "userId": "04820876765146263380"
     },
     "user_tz": 240
    },
    "id": "3bxqgS4c8wqW"
   },
   "outputs": [],
   "source": [
    "temp_normal = normal_tweets[[\"text\"]]"
   ]
  },
  {
   "cell_type": "code",
   "execution_count": 20,
   "metadata": {
    "colab": {
     "base_uri": "https://localhost:8080/",
     "height": 424
    },
    "executionInfo": {
     "elapsed": 92,
     "status": "ok",
     "timestamp": 1712349882801,
     "user": {
      "displayName": "Akshat Sahu",
      "userId": "04820876765146263380"
     },
     "user_tz": 240
    },
    "id": "Mbd_i90J-yBM",
    "outputId": "9b511800-11a1-408c-c1a3-e287458d43a3"
   },
   "outputs": [
    {
     "data": {
      "text/html": [
       "<div>\n",
       "<style scoped>\n",
       "    .dataframe tbody tr th:only-of-type {\n",
       "        vertical-align: middle;\n",
       "    }\n",
       "\n",
       "    .dataframe tbody tr th {\n",
       "        vertical-align: top;\n",
       "    }\n",
       "\n",
       "    .dataframe thead th {\n",
       "        text-align: right;\n",
       "    }\n",
       "</style>\n",
       "<table border=\"1\" class=\"dataframe\">\n",
       "  <thead>\n",
       "    <tr style=\"text-align: right;\">\n",
       "      <th></th>\n",
       "      <th>text</th>\n",
       "    </tr>\n",
       "  </thead>\n",
       "  <tbody>\n",
       "    <tr>\n",
       "      <th>0</th>\n",
       "      <td>Party least receive say or single. Prevent pre...</td>\n",
       "    </tr>\n",
       "    <tr>\n",
       "      <th>1</th>\n",
       "      <td>Hotel still Congress may member staff. Media d...</td>\n",
       "    </tr>\n",
       "    <tr>\n",
       "      <th>2</th>\n",
       "      <td>Nice be her debate industry that year. Film wh...</td>\n",
       "    </tr>\n",
       "    <tr>\n",
       "      <th>3</th>\n",
       "      <td>Laugh explain situation career occur serious. ...</td>\n",
       "    </tr>\n",
       "    <tr>\n",
       "      <th>4</th>\n",
       "      <td>Involve sense former often approach government...</td>\n",
       "    </tr>\n",
       "    <tr>\n",
       "      <th>...</th>\n",
       "      <td>...</td>\n",
       "    </tr>\n",
       "    <tr>\n",
       "      <th>9995</th>\n",
       "      <td>Agree reflect military box ability ever hold. ...</td>\n",
       "    </tr>\n",
       "    <tr>\n",
       "      <th>9996</th>\n",
       "      <td>Born which push still. Degree sometimes contro...</td>\n",
       "    </tr>\n",
       "    <tr>\n",
       "      <th>9997</th>\n",
       "      <td>You day agent likely region. Teacher data mess...</td>\n",
       "    </tr>\n",
       "    <tr>\n",
       "      <th>9998</th>\n",
       "      <td>Guess without successful save. Particular natu...</td>\n",
       "    </tr>\n",
       "    <tr>\n",
       "      <th>9999</th>\n",
       "      <td>Body onto understand team about product beauti...</td>\n",
       "    </tr>\n",
       "  </tbody>\n",
       "</table>\n",
       "<p>10000 rows × 1 columns</p>\n",
       "</div>"
      ],
      "text/plain": [
       "                                                   text\n",
       "0     Party least receive say or single. Prevent pre...\n",
       "1     Hotel still Congress may member staff. Media d...\n",
       "2     Nice be her debate industry that year. Film wh...\n",
       "3     Laugh explain situation career occur serious. ...\n",
       "4     Involve sense former often approach government...\n",
       "...                                                 ...\n",
       "9995  Agree reflect military box ability ever hold. ...\n",
       "9996  Born which push still. Degree sometimes contro...\n",
       "9997  You day agent likely region. Teacher data mess...\n",
       "9998  Guess without successful save. Particular natu...\n",
       "9999  Body onto understand team about product beauti...\n",
       "\n",
       "[10000 rows x 1 columns]"
      ]
     },
     "execution_count": 20,
     "metadata": {},
     "output_type": "execute_result"
    }
   ],
   "source": [
    "temp_normal"
   ]
  },
  {
   "cell_type": "code",
   "execution_count": 21,
   "metadata": {
    "executionInfo": {
     "elapsed": 3,
     "status": "ok",
     "timestamp": 1712349882801,
     "user": {
      "displayName": "Akshat Sahu",
      "userId": "04820876765146263380"
     },
     "user_tz": 240
    },
    "id": "CnjnJ6I3-zm0"
   },
   "outputs": [],
   "source": [
    "temp_normal[\"label\"] = pd.Series([0 for x in range(len(temp_normal.index))])"
   ]
  },
  {
   "cell_type": "code",
   "execution_count": 22,
   "metadata": {
    "colab": {
     "base_uri": "https://localhost:8080/"
    },
    "executionInfo": {
     "elapsed": 98,
     "status": "ok",
     "timestamp": 1712349882897,
     "user": {
      "displayName": "Akshat Sahu",
      "userId": "04820876765146263380"
     },
     "user_tz": 240
    },
    "id": "AK8NHLb2DFzu",
    "outputId": "4cd7aac4-0881-4011-89be-83e635fe22de"
   },
   "outputs": [
    {
     "name": "stderr",
     "output_type": "stream",
     "text": [
      "C:\\Users\\yashd\\AppData\\Local\\Temp\\ipykernel_3900\\3769295259.py:1: SettingWithCopyWarning: \n",
      "A value is trying to be set on a copy of a slice from a DataFrame.\n",
      "Try using .loc[row_indexer,col_indexer] = value instead\n",
      "\n",
      "See the caveats in the documentation: https://pandas.pydata.org/pandas-docs/stable/user_guide/indexing.html#returning-a-view-versus-a-copy\n",
      "  temp_depression[\"label\"] = pd.Series([1 for x in range(len(temp_depression.text))])\n"
     ]
    }
   ],
   "source": [
    "temp_depression[\"label\"] = pd.Series([1 for x in range(len(temp_depression.text))])"
   ]
  },
  {
   "cell_type": "code",
   "execution_count": 23,
   "metadata": {
    "executionInfo": {
     "elapsed": 2,
     "status": "ok",
     "timestamp": 1712349882898,
     "user": {
      "displayName": "Akshat Sahu",
      "userId": "04820876765146263380"
     },
     "user_tz": 240
    },
    "id": "OatcmtugBGOD"
   },
   "outputs": [
    {
     "name": "stderr",
     "output_type": "stream",
     "text": [
      "C:\\Users\\yashd\\AppData\\Local\\Temp\\ipykernel_3900\\167876038.py:1: SettingWithCopyWarning: \n",
      "A value is trying to be set on a copy of a slice from a DataFrame.\n",
      "Try using .loc[row_indexer,col_indexer] = value instead\n",
      "\n",
      "See the caveats in the documentation: https://pandas.pydata.org/pandas-docs/stable/user_guide/indexing.html#returning-a-view-versus-a-copy\n",
      "  temp_depression.loc[:, \"label\"] = pd.Series(\n",
      "C:\\Users\\yashd\\AppData\\Local\\Temp\\ipykernel_3900\\167876038.py:1: DeprecationWarning: In a future version, `df.iloc[:, i] = newvals` will attempt to set the values inplace instead of always setting a new array. To retain the old behavior, use either `df[df.columns[i]] = newvals` or, if columns are non-unique, `df.isetitem(i, newvals)`\n",
      "  temp_depression.loc[:, \"label\"] = pd.Series(\n"
     ]
    }
   ],
   "source": [
    "temp_depression.loc[:, \"label\"] = pd.Series(\n",
    "    [1 for x in range(len(temp_depression.index))], index=temp_depression.index\n",
    ")"
   ]
  },
  {
   "cell_type": "code",
   "execution_count": 24,
   "metadata": {
    "colab": {
     "base_uri": "https://localhost:8080/",
     "height": 206
    },
    "executionInfo": {
     "elapsed": 125,
     "status": "ok",
     "timestamp": 1712349883021,
     "user": {
      "displayName": "Akshat Sahu",
      "userId": "04820876765146263380"
     },
     "user_tz": 240
    },
    "id": "RYQeLX_fBoC0",
    "outputId": "8ab1e0dc-1e6e-4c4d-f26f-e678354e9884"
   },
   "outputs": [
    {
     "data": {
      "text/html": [
       "<div>\n",
       "<style scoped>\n",
       "    .dataframe tbody tr th:only-of-type {\n",
       "        vertical-align: middle;\n",
       "    }\n",
       "\n",
       "    .dataframe tbody tr th {\n",
       "        vertical-align: top;\n",
       "    }\n",
       "\n",
       "    .dataframe thead th {\n",
       "        text-align: right;\n",
       "    }\n",
       "</style>\n",
       "<table border=\"1\" class=\"dataframe\">\n",
       "  <thead>\n",
       "    <tr style=\"text-align: right;\">\n",
       "      <th></th>\n",
       "      <th>text</th>\n",
       "      <th>label</th>\n",
       "    </tr>\n",
       "  </thead>\n",
       "  <tbody>\n",
       "    <tr>\n",
       "      <th>0</th>\n",
       "      <td>Open discussion. Between the Transfer Portal a...</td>\n",
       "      <td>1</td>\n",
       "    </tr>\n",
       "    <tr>\n",
       "      <th>1</th>\n",
       "      <td>Plenty of things are changing in my life and t...</td>\n",
       "      <td>1</td>\n",
       "    </tr>\n",
       "    <tr>\n",
       "      <th>2</th>\n",
       "      <td>I feel a little hopeless. Anyone else? #hopele...</td>\n",
       "      <td>1</td>\n",
       "    </tr>\n",
       "    <tr>\n",
       "      <th>3</th>\n",
       "      <td>Which is more healthy? Hope, or hopelessness? ...</td>\n",
       "      <td>1</td>\n",
       "    </tr>\n",
       "    <tr>\n",
       "      <th>4</th>\n",
       "      <td>So someone tell me how do I get over #HOPELESS...</td>\n",
       "      <td>1</td>\n",
       "    </tr>\n",
       "  </tbody>\n",
       "</table>\n",
       "</div>"
      ],
      "text/plain": [
       "                                                text  label\n",
       "0  Open discussion. Between the Transfer Portal a...      1\n",
       "1  Plenty of things are changing in my life and t...      1\n",
       "2  I feel a little hopeless. Anyone else? #hopele...      1\n",
       "3  Which is more healthy? Hope, or hopelessness? ...      1\n",
       "4  So someone tell me how do I get over #HOPELESS...      1"
      ]
     },
     "execution_count": 24,
     "metadata": {},
     "output_type": "execute_result"
    }
   ],
   "source": [
    "temp_depression.head()"
   ]
  },
  {
   "cell_type": "code",
   "execution_count": 25,
   "metadata": {
    "colab": {
     "base_uri": "https://localhost:8080/"
    },
    "executionInfo": {
     "elapsed": 153,
     "status": "ok",
     "timestamp": 1712349883171,
     "user": {
      "displayName": "Akshat Sahu",
      "userId": "04820876765146263380"
     },
     "user_tz": 240
    },
    "id": "fcpdlrOADu1C",
    "outputId": "cfb23fca-1892-4830-b536-978996e989ac"
   },
   "outputs": [
    {
     "name": "stderr",
     "output_type": "stream",
     "text": [
      "C:\\Users\\yashd\\AppData\\Local\\Temp\\ipykernel_3900\\2172180572.py:1: SettingWithCopyWarning: \n",
      "A value is trying to be set on a copy of a slice from a DataFrame.\n",
      "Try using .loc[row_indexer,col_indexer] = value instead\n",
      "\n",
      "See the caveats in the documentation: https://pandas.pydata.org/pandas-docs/stable/user_guide/indexing.html#returning-a-view-versus-a-copy\n",
      "  temp_depression[\"label\"] = temp_depression[\"label\"].astype(int)\n"
     ]
    }
   ],
   "source": [
    "temp_depression[\"label\"] = temp_depression[\"label\"].astype(int)"
   ]
  },
  {
   "cell_type": "code",
   "execution_count": 26,
   "metadata": {
    "colab": {
     "base_uri": "https://localhost:8080/",
     "height": 424
    },
    "executionInfo": {
     "elapsed": 107,
     "status": "ok",
     "timestamp": 1712349883275,
     "user": {
      "displayName": "Akshat Sahu",
      "userId": "04820876765146263380"
     },
     "user_tz": 240
    },
    "id": "TKLcc8igDv_0",
    "outputId": "10715a04-be07-4ea1-8a74-8b8a24085538"
   },
   "outputs": [
    {
     "data": {
      "text/html": [
       "<div>\n",
       "<style scoped>\n",
       "    .dataframe tbody tr th:only-of-type {\n",
       "        vertical-align: middle;\n",
       "    }\n",
       "\n",
       "    .dataframe tbody tr th {\n",
       "        vertical-align: top;\n",
       "    }\n",
       "\n",
       "    .dataframe thead th {\n",
       "        text-align: right;\n",
       "    }\n",
       "</style>\n",
       "<table border=\"1\" class=\"dataframe\">\n",
       "  <thead>\n",
       "    <tr style=\"text-align: right;\">\n",
       "      <th></th>\n",
       "      <th>text</th>\n",
       "      <th>label</th>\n",
       "    </tr>\n",
       "  </thead>\n",
       "  <tbody>\n",
       "    <tr>\n",
       "      <th>0</th>\n",
       "      <td>Open discussion. Between the Transfer Portal a...</td>\n",
       "      <td>1</td>\n",
       "    </tr>\n",
       "    <tr>\n",
       "      <th>1</th>\n",
       "      <td>Plenty of things are changing in my life and t...</td>\n",
       "      <td>1</td>\n",
       "    </tr>\n",
       "    <tr>\n",
       "      <th>2</th>\n",
       "      <td>I feel a little hopeless. Anyone else? #hopele...</td>\n",
       "      <td>1</td>\n",
       "    </tr>\n",
       "    <tr>\n",
       "      <th>3</th>\n",
       "      <td>Which is more healthy? Hope, or hopelessness? ...</td>\n",
       "      <td>1</td>\n",
       "    </tr>\n",
       "    <tr>\n",
       "      <th>4</th>\n",
       "      <td>So someone tell me how do I get over #HOPELESS...</td>\n",
       "      <td>1</td>\n",
       "    </tr>\n",
       "    <tr>\n",
       "      <th>...</th>\n",
       "      <td>...</td>\n",
       "      <td>...</td>\n",
       "    </tr>\n",
       "    <tr>\n",
       "      <th>24142</th>\n",
       "      <td>Just got banned from a server F #sad</td>\n",
       "      <td>1</td>\n",
       "    </tr>\n",
       "    <tr>\n",
       "      <th>24143</th>\n",
       "      <td>I literally cried during my exam and the cam i...</td>\n",
       "      <td>1</td>\n",
       "    </tr>\n",
       "    <tr>\n",
       "      <th>24144</th>\n",
       "      <td>No one can be happy with a guy like me. That's...</td>\n",
       "      <td>1</td>\n",
       "    </tr>\n",
       "    <tr>\n",
       "      <th>24145</th>\n",
       "      <td>arrived at my house but Am I Home? #deep #sad ...</td>\n",
       "      <td>1</td>\n",
       "    </tr>\n",
       "    <tr>\n",
       "      <th>24146</th>\n",
       "      <td>Being spoken down to rn at @starbucks and reme...</td>\n",
       "      <td>1</td>\n",
       "    </tr>\n",
       "  </tbody>\n",
       "</table>\n",
       "<p>18190 rows × 2 columns</p>\n",
       "</div>"
      ],
      "text/plain": [
       "                                                    text  label\n",
       "0      Open discussion. Between the Transfer Portal a...      1\n",
       "1      Plenty of things are changing in my life and t...      1\n",
       "2      I feel a little hopeless. Anyone else? #hopele...      1\n",
       "3      Which is more healthy? Hope, or hopelessness? ...      1\n",
       "4      So someone tell me how do I get over #HOPELESS...      1\n",
       "...                                                  ...    ...\n",
       "24142               Just got banned from a server F #sad      1\n",
       "24143  I literally cried during my exam and the cam i...      1\n",
       "24144  No one can be happy with a guy like me. That's...      1\n",
       "24145  arrived at my house but Am I Home? #deep #sad ...      1\n",
       "24146  Being spoken down to rn at @starbucks and reme...      1\n",
       "\n",
       "[18190 rows x 2 columns]"
      ]
     },
     "execution_count": 26,
     "metadata": {},
     "output_type": "execute_result"
    }
   ],
   "source": [
    "temp_depression"
   ]
  },
  {
   "cell_type": "code",
   "execution_count": 27,
   "metadata": {
    "colab": {
     "base_uri": "https://localhost:8080/",
     "height": 424
    },
    "executionInfo": {
     "elapsed": 106,
     "status": "ok",
     "timestamp": 1712349883275,
     "user": {
      "displayName": "Akshat Sahu",
      "userId": "04820876765146263380"
     },
     "user_tz": 240
    },
    "id": "j5pPIWjQBzKM",
    "outputId": "0b514e5a-a21b-40bc-fdde-f905bbc9bb40"
   },
   "outputs": [
    {
     "data": {
      "text/html": [
       "<div>\n",
       "<style scoped>\n",
       "    .dataframe tbody tr th:only-of-type {\n",
       "        vertical-align: middle;\n",
       "    }\n",
       "\n",
       "    .dataframe tbody tr th {\n",
       "        vertical-align: top;\n",
       "    }\n",
       "\n",
       "    .dataframe thead th {\n",
       "        text-align: right;\n",
       "    }\n",
       "</style>\n",
       "<table border=\"1\" class=\"dataframe\">\n",
       "  <thead>\n",
       "    <tr style=\"text-align: right;\">\n",
       "      <th></th>\n",
       "      <th>text</th>\n",
       "      <th>label</th>\n",
       "    </tr>\n",
       "  </thead>\n",
       "  <tbody>\n",
       "    <tr>\n",
       "      <th>0</th>\n",
       "      <td>Party least receive say or single. Prevent pre...</td>\n",
       "      <td>0</td>\n",
       "    </tr>\n",
       "    <tr>\n",
       "      <th>1</th>\n",
       "      <td>Hotel still Congress may member staff. Media d...</td>\n",
       "      <td>0</td>\n",
       "    </tr>\n",
       "    <tr>\n",
       "      <th>2</th>\n",
       "      <td>Nice be her debate industry that year. Film wh...</td>\n",
       "      <td>0</td>\n",
       "    </tr>\n",
       "    <tr>\n",
       "      <th>3</th>\n",
       "      <td>Laugh explain situation career occur serious. ...</td>\n",
       "      <td>0</td>\n",
       "    </tr>\n",
       "    <tr>\n",
       "      <th>4</th>\n",
       "      <td>Involve sense former often approach government...</td>\n",
       "      <td>0</td>\n",
       "    </tr>\n",
       "    <tr>\n",
       "      <th>...</th>\n",
       "      <td>...</td>\n",
       "      <td>...</td>\n",
       "    </tr>\n",
       "    <tr>\n",
       "      <th>9995</th>\n",
       "      <td>Agree reflect military box ability ever hold. ...</td>\n",
       "      <td>0</td>\n",
       "    </tr>\n",
       "    <tr>\n",
       "      <th>9996</th>\n",
       "      <td>Born which push still. Degree sometimes contro...</td>\n",
       "      <td>0</td>\n",
       "    </tr>\n",
       "    <tr>\n",
       "      <th>9997</th>\n",
       "      <td>You day agent likely region. Teacher data mess...</td>\n",
       "      <td>0</td>\n",
       "    </tr>\n",
       "    <tr>\n",
       "      <th>9998</th>\n",
       "      <td>Guess without successful save. Particular natu...</td>\n",
       "      <td>0</td>\n",
       "    </tr>\n",
       "    <tr>\n",
       "      <th>9999</th>\n",
       "      <td>Body onto understand team about product beauti...</td>\n",
       "      <td>0</td>\n",
       "    </tr>\n",
       "  </tbody>\n",
       "</table>\n",
       "<p>10000 rows × 2 columns</p>\n",
       "</div>"
      ],
      "text/plain": [
       "                                                   text  label\n",
       "0     Party least receive say or single. Prevent pre...      0\n",
       "1     Hotel still Congress may member staff. Media d...      0\n",
       "2     Nice be her debate industry that year. Film wh...      0\n",
       "3     Laugh explain situation career occur serious. ...      0\n",
       "4     Involve sense former often approach government...      0\n",
       "...                                                 ...    ...\n",
       "9995  Agree reflect military box ability ever hold. ...      0\n",
       "9996  Born which push still. Degree sometimes contro...      0\n",
       "9997  You day agent likely region. Teacher data mess...      0\n",
       "9998  Guess without successful save. Particular natu...      0\n",
       "9999  Body onto understand team about product beauti...      0\n",
       "\n",
       "[10000 rows x 2 columns]"
      ]
     },
     "execution_count": 27,
     "metadata": {},
     "output_type": "execute_result"
    }
   ],
   "source": [
    "temp_normal"
   ]
  },
  {
   "cell_type": "code",
   "execution_count": 28,
   "metadata": {
    "executionInfo": {
     "elapsed": 123,
     "status": "ok",
     "timestamp": 1712349883391,
     "user": {
      "displayName": "Akshat Sahu",
      "userId": "04820876765146263380"
     },
     "user_tz": 240
    },
    "id": "vV-qaa_2Dz_G"
   },
   "outputs": [],
   "source": [
    "final_data = pd.concat([temp_normal, temp_depression], ignore_index=True)"
   ]
  },
  {
   "cell_type": "code",
   "execution_count": 29,
   "metadata": {
    "colab": {
     "base_uri": "https://localhost:8080/",
     "height": 424
    },
    "executionInfo": {
     "elapsed": 150,
     "status": "ok",
     "timestamp": 1712349883539,
     "user": {
      "displayName": "Akshat Sahu",
      "userId": "04820876765146263380"
     },
     "user_tz": 240
    },
    "id": "F9r_7eYiD5RE",
    "outputId": "16b0e6f1-21d1-457e-c0c7-cc7491e64d81"
   },
   "outputs": [
    {
     "data": {
      "text/html": [
       "<div>\n",
       "<style scoped>\n",
       "    .dataframe tbody tr th:only-of-type {\n",
       "        vertical-align: middle;\n",
       "    }\n",
       "\n",
       "    .dataframe tbody tr th {\n",
       "        vertical-align: top;\n",
       "    }\n",
       "\n",
       "    .dataframe thead th {\n",
       "        text-align: right;\n",
       "    }\n",
       "</style>\n",
       "<table border=\"1\" class=\"dataframe\">\n",
       "  <thead>\n",
       "    <tr style=\"text-align: right;\">\n",
       "      <th></th>\n",
       "      <th>text</th>\n",
       "      <th>label</th>\n",
       "    </tr>\n",
       "  </thead>\n",
       "  <tbody>\n",
       "    <tr>\n",
       "      <th>0</th>\n",
       "      <td>Party least receive say or single. Prevent pre...</td>\n",
       "      <td>0</td>\n",
       "    </tr>\n",
       "    <tr>\n",
       "      <th>1</th>\n",
       "      <td>Hotel still Congress may member staff. Media d...</td>\n",
       "      <td>0</td>\n",
       "    </tr>\n",
       "    <tr>\n",
       "      <th>2</th>\n",
       "      <td>Nice be her debate industry that year. Film wh...</td>\n",
       "      <td>0</td>\n",
       "    </tr>\n",
       "    <tr>\n",
       "      <th>3</th>\n",
       "      <td>Laugh explain situation career occur serious. ...</td>\n",
       "      <td>0</td>\n",
       "    </tr>\n",
       "    <tr>\n",
       "      <th>4</th>\n",
       "      <td>Involve sense former often approach government...</td>\n",
       "      <td>0</td>\n",
       "    </tr>\n",
       "    <tr>\n",
       "      <th>...</th>\n",
       "      <td>...</td>\n",
       "      <td>...</td>\n",
       "    </tr>\n",
       "    <tr>\n",
       "      <th>28185</th>\n",
       "      <td>Just got banned from a server F #sad</td>\n",
       "      <td>1</td>\n",
       "    </tr>\n",
       "    <tr>\n",
       "      <th>28186</th>\n",
       "      <td>I literally cried during my exam and the cam i...</td>\n",
       "      <td>1</td>\n",
       "    </tr>\n",
       "    <tr>\n",
       "      <th>28187</th>\n",
       "      <td>No one can be happy with a guy like me. That's...</td>\n",
       "      <td>1</td>\n",
       "    </tr>\n",
       "    <tr>\n",
       "      <th>28188</th>\n",
       "      <td>arrived at my house but Am I Home? #deep #sad ...</td>\n",
       "      <td>1</td>\n",
       "    </tr>\n",
       "    <tr>\n",
       "      <th>28189</th>\n",
       "      <td>Being spoken down to rn at @starbucks and reme...</td>\n",
       "      <td>1</td>\n",
       "    </tr>\n",
       "  </tbody>\n",
       "</table>\n",
       "<p>28190 rows × 2 columns</p>\n",
       "</div>"
      ],
      "text/plain": [
       "                                                    text  label\n",
       "0      Party least receive say or single. Prevent pre...      0\n",
       "1      Hotel still Congress may member staff. Media d...      0\n",
       "2      Nice be her debate industry that year. Film wh...      0\n",
       "3      Laugh explain situation career occur serious. ...      0\n",
       "4      Involve sense former often approach government...      0\n",
       "...                                                  ...    ...\n",
       "28185               Just got banned from a server F #sad      1\n",
       "28186  I literally cried during my exam and the cam i...      1\n",
       "28187  No one can be happy with a guy like me. That's...      1\n",
       "28188  arrived at my house but Am I Home? #deep #sad ...      1\n",
       "28189  Being spoken down to rn at @starbucks and reme...      1\n",
       "\n",
       "[28190 rows x 2 columns]"
      ]
     },
     "execution_count": 29,
     "metadata": {},
     "output_type": "execute_result"
    }
   ],
   "source": [
    "final_data"
   ]
  },
  {
   "cell_type": "code",
   "execution_count": 30,
   "metadata": {
    "colab": {
     "base_uri": "https://localhost:8080/"
    },
    "executionInfo": {
     "elapsed": 119,
     "status": "ok",
     "timestamp": 1712349883653,
     "user": {
      "displayName": "Akshat Sahu",
      "userId": "04820876765146263380"
     },
     "user_tz": 240
    },
    "id": "sufr5g2CD61v",
    "outputId": "8fd327e6-cbed-4f45-feb5-4eefef25cfef"
   },
   "outputs": [
    {
     "data": {
      "text/plain": [
       "(28190, 2)"
      ]
     },
     "execution_count": 30,
     "metadata": {},
     "output_type": "execute_result"
    }
   ],
   "source": [
    "final_data.shape"
   ]
  },
  {
   "cell_type": "code",
   "execution_count": 31,
   "metadata": {
    "scrolled": true
   },
   "outputs": [
    {
     "name": "stderr",
     "output_type": "stream",
     "text": [
      "[nltk_data] Downloading package stopwords to\n",
      "[nltk_data]     C:\\Users\\yashd\\AppData\\Roaming\\nltk_data...\n",
      "[nltk_data]   Package stopwords is already up-to-date!\n",
      "[nltk_data] Downloading package punkt to\n",
      "[nltk_data]     C:\\Users\\yashd\\AppData\\Roaming\\nltk_data...\n",
      "[nltk_data]   Package punkt is already up-to-date!\n",
      "[nltk_data] Downloading package wordnet to\n",
      "[nltk_data]     C:\\Users\\yashd\\AppData\\Roaming\\nltk_data...\n",
      "[nltk_data]   Package wordnet is already up-to-date!\n"
     ]
    },
    {
     "data": {
      "text/plain": [
       "True"
      ]
     },
     "execution_count": 31,
     "metadata": {},
     "output_type": "execute_result"
    }
   ],
   "source": [
    "import nltk\n",
    "\n",
    "nltk.download(\"stopwords\")\n",
    "nltk.download(\"punkt\")\n",
    "nltk.download(\"wordnet\")\n"
   ]
  },
  {
   "cell_type": "code",
   "execution_count": 32,
   "metadata": {},
   "outputs": [
    {
     "name": "stdout",
     "output_type": "stream",
     "text": [
      "Requirement already satisfied: ftfy in c:\\users\\yashd\\anaconda3\\lib\\site-packages (6.2.0)\n",
      "Requirement already satisfied: wcwidth<0.3.0,>=0.2.12 in c:\\users\\yashd\\anaconda3\\lib\\site-packages (from ftfy) (0.2.13)\n",
      "Note: you may need to restart the kernel to use updated packages.\n"
     ]
    }
   ],
   "source": [
    "pip install ftfy"
   ]
  },
  {
   "cell_type": "code",
   "execution_count": 33,
   "metadata": {},
   "outputs": [],
   "source": [
    "import re\n",
    "import ftfy\n",
    "import nltk\n",
    "from nltk.corpus import stopwords\n",
    "from nltk.tokenize import word_tokenize\n",
    "from nltk.stem import WordNetLemmatizer\n",
    "\n",
    "\n",
    "def clean_tweet(tweets):\n",
    "    cleaned_tweets = []\n",
    "    for tweet in tweets:\n",
    "        tweet = tweet.lower()\n",
    "\n",
    "        if re.match(\"(\\w+:\\/\\/\\S+)\", tweet) == None and len(tweet) > 5:\n",
    "\n",
    "            # removing hashtag, @mention, emoji and image URLs\n",
    "            tweet = \" \".join(\n",
    "                re.sub(\n",
    "                    \"(@[A-Za-z0-9]+)|(\\#[A-Za-z0-9]+)|(<Emoji:.*>)|(pic\\.twitter\\.com\\/.*)\",\n",
    "                    \" \",\n",
    "                    tweet,\n",
    "                ).split()\n",
    "            )\n",
    "\n",
    "            # fix weirdly encoded texts\n",
    "            tweet = ftfy.fix_text(tweet)\n",
    "\n",
    "            # remove punctuation\n",
    "            tweet = \" \".join(re.sub(\"([^0-9A-Za-z \\t])\", \" \", tweet).split())\n",
    "\n",
    "            # stop words and lemmatization\n",
    "            stop_words = set(stopwords.words(\"english\"))\n",
    "            word_tokens = nltk.word_tokenize(tweet)\n",
    "\n",
    "            lemmatizer = WordNetLemmatizer()\n",
    "            filtered_sentence = [\n",
    "                lemmatizer.lemmatize(word)\n",
    "                for word in word_tokens\n",
    "                if not word in stop_words\n",
    "            ]\n",
    "            # back to string from list\n",
    "            tweet = \" \".join(\n",
    "                filtered_sentence\n",
    "            )  # join words with a space in between them\n",
    "\n",
    "            cleaned_tweets.append(tweet)\n",
    "\n",
    "    return cleaned_tweets"
   ]
  },
  {
   "cell_type": "code",
   "execution_count": 34,
   "metadata": {},
   "outputs": [],
   "source": [
    "arr = [x for x in final_data[\"text\"]]\n",
    "cleaned_column = clean_tweet(arr)"
   ]
  },
  {
   "cell_type": "code",
   "execution_count": 35,
   "metadata": {},
   "outputs": [],
   "source": [
    "final_data[\"cleaned_tweet\"] = cleaned_column"
   ]
  },
  {
   "cell_type": "code",
   "execution_count": 36,
   "metadata": {},
   "outputs": [
    {
     "data": {
      "text/html": [
       "<div>\n",
       "<style scoped>\n",
       "    .dataframe tbody tr th:only-of-type {\n",
       "        vertical-align: middle;\n",
       "    }\n",
       "\n",
       "    .dataframe tbody tr th {\n",
       "        vertical-align: top;\n",
       "    }\n",
       "\n",
       "    .dataframe thead th {\n",
       "        text-align: right;\n",
       "    }\n",
       "</style>\n",
       "<table border=\"1\" class=\"dataframe\">\n",
       "  <thead>\n",
       "    <tr style=\"text-align: right;\">\n",
       "      <th></th>\n",
       "      <th>text</th>\n",
       "      <th>label</th>\n",
       "      <th>cleaned_tweet</th>\n",
       "    </tr>\n",
       "  </thead>\n",
       "  <tbody>\n",
       "    <tr>\n",
       "      <th>0</th>\n",
       "      <td>Party least receive say or single. Prevent pre...</td>\n",
       "      <td>0</td>\n",
       "      <td>party least receive say single prevent prevent...</td>\n",
       "    </tr>\n",
       "    <tr>\n",
       "      <th>1</th>\n",
       "      <td>Hotel still Congress may member staff. Media d...</td>\n",
       "      <td>0</td>\n",
       "      <td>hotel still congress may member staff medium d...</td>\n",
       "    </tr>\n",
       "    <tr>\n",
       "      <th>2</th>\n",
       "      <td>Nice be her debate industry that year. Film wh...</td>\n",
       "      <td>0</td>\n",
       "      <td>nice debate industry year film generation push...</td>\n",
       "    </tr>\n",
       "    <tr>\n",
       "      <th>3</th>\n",
       "      <td>Laugh explain situation career occur serious. ...</td>\n",
       "      <td>0</td>\n",
       "      <td>laugh explain situation career occur serious f...</td>\n",
       "    </tr>\n",
       "    <tr>\n",
       "      <th>4</th>\n",
       "      <td>Involve sense former often approach government...</td>\n",
       "      <td>0</td>\n",
       "      <td>involve sense former often approach government...</td>\n",
       "    </tr>\n",
       "  </tbody>\n",
       "</table>\n",
       "</div>"
      ],
      "text/plain": [
       "                                                text  label  \\\n",
       "0  Party least receive say or single. Prevent pre...      0   \n",
       "1  Hotel still Congress may member staff. Media d...      0   \n",
       "2  Nice be her debate industry that year. Film wh...      0   \n",
       "3  Laugh explain situation career occur serious. ...      0   \n",
       "4  Involve sense former often approach government...      0   \n",
       "\n",
       "                                       cleaned_tweet  \n",
       "0  party least receive say single prevent prevent...  \n",
       "1  hotel still congress may member staff medium d...  \n",
       "2  nice debate industry year film generation push...  \n",
       "3  laugh explain situation career occur serious f...  \n",
       "4  involve sense former often approach government...  "
      ]
     },
     "execution_count": 36,
     "metadata": {},
     "output_type": "execute_result"
    }
   ],
   "source": [
    "final_data.head()"
   ]
  },
  {
   "cell_type": "code",
   "execution_count": 37,
   "metadata": {},
   "outputs": [],
   "source": [
    "final_data.replace(r\"^\\s*$\", np.nan, regex=True, inplace=True)"
   ]
  },
  {
   "cell_type": "code",
   "execution_count": 38,
   "metadata": {},
   "outputs": [
    {
     "data": {
      "text/html": [
       "<div>\n",
       "<style scoped>\n",
       "    .dataframe tbody tr th:only-of-type {\n",
       "        vertical-align: middle;\n",
       "    }\n",
       "\n",
       "    .dataframe tbody tr th {\n",
       "        vertical-align: top;\n",
       "    }\n",
       "\n",
       "    .dataframe thead th {\n",
       "        text-align: right;\n",
       "    }\n",
       "</style>\n",
       "<table border=\"1\" class=\"dataframe\">\n",
       "  <thead>\n",
       "    <tr style=\"text-align: right;\">\n",
       "      <th></th>\n",
       "      <th>text</th>\n",
       "      <th>label</th>\n",
       "      <th>cleaned_tweet</th>\n",
       "    </tr>\n",
       "  </thead>\n",
       "  <tbody>\n",
       "    <tr>\n",
       "      <th>10067</th>\n",
       "      <td>You are there for them, but they are not there...</td>\n",
       "      <td>1</td>\n",
       "      <td>NaN</td>\n",
       "    </tr>\n",
       "    <tr>\n",
       "      <th>10881</th>\n",
       "      <td>Why me? \\n\\n#depression #depressed #sad #cry #...</td>\n",
       "      <td>1</td>\n",
       "      <td>NaN</td>\n",
       "    </tr>\n",
       "    <tr>\n",
       "      <th>11142</th>\n",
       "      <td>that’s IT! i’m #depressed</td>\n",
       "      <td>1</td>\n",
       "      <td>NaN</td>\n",
       "    </tr>\n",
       "    <tr>\n",
       "      <th>12037</th>\n",
       "      <td>When your #anxiety has #anxiety 😖</td>\n",
       "      <td>1</td>\n",
       "      <td>NaN</td>\n",
       "    </tr>\n",
       "    <tr>\n",
       "      <th>15073</th>\n",
       "      <td>I have #anxiety</td>\n",
       "      <td>1</td>\n",
       "      <td>NaN</td>\n",
       "    </tr>\n",
       "    <tr>\n",
       "      <th>15143</th>\n",
       "      <td>Just down.🙁 #mentalhealth #ADD #anxiety #BPD #...</td>\n",
       "      <td>1</td>\n",
       "      <td>NaN</td>\n",
       "    </tr>\n",
       "    <tr>\n",
       "      <th>15731</th>\n",
       "      <td>#Legalize the #cure to #depression and #anxiet...</td>\n",
       "      <td>1</td>\n",
       "      <td>NaN</td>\n",
       "    </tr>\n",
       "    <tr>\n",
       "      <th>18725</th>\n",
       "      <td>Be You ✨ #mentalhealth</td>\n",
       "      <td>1</td>\n",
       "      <td>NaN</td>\n",
       "    </tr>\n",
       "    <tr>\n",
       "      <th>19294</th>\n",
       "      <td>How do you do?\\n#Poll #EnglishClass #Literatur...</td>\n",
       "      <td>1</td>\n",
       "      <td>NaN</td>\n",
       "    </tr>\n",
       "    <tr>\n",
       "      <th>19868</th>\n",
       "      <td>#exercise and #meditation or #depression?   #w...</td>\n",
       "      <td>1</td>\n",
       "      <td>NaN</td>\n",
       "    </tr>\n",
       "    <tr>\n",
       "      <th>20192</th>\n",
       "      <td>#celebrities have #socialresponsibility #Socia...</td>\n",
       "      <td>1</td>\n",
       "      <td>NaN</td>\n",
       "    </tr>\n",
       "    <tr>\n",
       "      <th>22726</th>\n",
       "      <td>I am in #depression #RavensFlock</td>\n",
       "      <td>1</td>\n",
       "      <td>NaN</td>\n",
       "    </tr>\n",
       "    <tr>\n",
       "      <th>23749</th>\n",
       "      <td>Me and my #unstablemind #overthinking #depression</td>\n",
       "      <td>1</td>\n",
       "      <td>NaN</td>\n",
       "    </tr>\n",
       "    <tr>\n",
       "      <th>24301</th>\n",
       "      <td>𝚈𝚘𝚞𝚛 𝚙𝚊𝚒𝚗 𝚜𝚑𝚊𝚕𝚕 𝚑𝚎𝚊𝚕,\\n\\n𝚋𝚞𝚝 𝚠𝚎 𝚠𝚒𝚕𝚕 𝚗𝚎𝚟𝚎𝚛 𝚔𝚗𝚘...</td>\n",
       "      <td>1</td>\n",
       "      <td>NaN</td>\n",
       "    </tr>\n",
       "    <tr>\n",
       "      <th>24352</th>\n",
       "      <td>This #depression will not #defeat me. #MentalH...</td>\n",
       "      <td>1</td>\n",
       "      <td>NaN</td>\n",
       "    </tr>\n",
       "    <tr>\n",
       "      <th>24901</th>\n",
       "      <td>I’m not over you…. 💔 #sad #relationship #heart...</td>\n",
       "      <td>1</td>\n",
       "      <td>NaN</td>\n",
       "    </tr>\n",
       "    <tr>\n",
       "      <th>25058</th>\n",
       "      <td>i’m so #sad</td>\n",
       "      <td>1</td>\n",
       "      <td>NaN</td>\n",
       "    </tr>\n",
       "    <tr>\n",
       "      <th>25128</th>\n",
       "      <td>#Sad about #Tomorrow\\n#Sorry but it's not my #...</td>\n",
       "      <td>1</td>\n",
       "      <td>NaN</td>\n",
       "    </tr>\n",
       "    <tr>\n",
       "      <th>25392</th>\n",
       "      <td>𝘏𝘰𝘸 𝘥𝘰 𝘸𝘦 𝘴𝘬𝘪𝘱 𝘵𝘩𝘦 𝘴𝘢𝘥 𝘱𝘢𝘳𝘵𝘴...?? #sad</td>\n",
       "      <td>1</td>\n",
       "      <td>NaN</td>\n",
       "    </tr>\n",
       "    <tr>\n",
       "      <th>25433</th>\n",
       "      <td>#WRRV #greatmusic#LIVEUP #life #onedayatatime ...</td>\n",
       "      <td>1</td>\n",
       "      <td>NaN</td>\n",
       "    </tr>\n",
       "    <tr>\n",
       "      <th>25669</th>\n",
       "      <td>#Dolphins NOW WHAT!!!\\n#SAD !!!!!!!!!!!!</td>\n",
       "      <td>1</td>\n",
       "      <td>NaN</td>\n",
       "    </tr>\n",
       "    <tr>\n",
       "      <th>25975</th>\n",
       "      <td>i’m so #sad</td>\n",
       "      <td>1</td>\n",
       "      <td>NaN</td>\n",
       "    </tr>\n",
       "    <tr>\n",
       "      <th>26948</th>\n",
       "      <td>Y am I #sad</td>\n",
       "      <td>1</td>\n",
       "      <td>NaN</td>\n",
       "    </tr>\n",
       "    <tr>\n",
       "      <th>27086</th>\n",
       "      <td>very #sad</td>\n",
       "      <td>1</td>\n",
       "      <td>NaN</td>\n",
       "    </tr>\n",
       "    <tr>\n",
       "      <th>27122</th>\n",
       "      <td>i’m so so #sad</td>\n",
       "      <td>1</td>\n",
       "      <td>NaN</td>\n",
       "    </tr>\n",
       "  </tbody>\n",
       "</table>\n",
       "</div>"
      ],
      "text/plain": [
       "                                                    text  label cleaned_tweet\n",
       "10067  You are there for them, but they are not there...      1           NaN\n",
       "10881  Why me? \\n\\n#depression #depressed #sad #cry #...      1           NaN\n",
       "11142                          that’s IT! i’m #depressed      1           NaN\n",
       "12037                  When your #anxiety has #anxiety 😖      1           NaN\n",
       "15073                                    I have #anxiety      1           NaN\n",
       "15143  Just down.🙁 #mentalhealth #ADD #anxiety #BPD #...      1           NaN\n",
       "15731  #Legalize the #cure to #depression and #anxiet...      1           NaN\n",
       "18725                             Be You ✨ #mentalhealth      1           NaN\n",
       "19294  How do you do?\\n#Poll #EnglishClass #Literatur...      1           NaN\n",
       "19868  #exercise and #meditation or #depression?   #w...      1           NaN\n",
       "20192  #celebrities have #socialresponsibility #Socia...      1           NaN\n",
       "22726                   I am in #depression #RavensFlock      1           NaN\n",
       "23749  Me and my #unstablemind #overthinking #depression      1           NaN\n",
       "24301  𝚈𝚘𝚞𝚛 𝚙𝚊𝚒𝚗 𝚜𝚑𝚊𝚕𝚕 𝚑𝚎𝚊𝚕,\\n\\n𝚋𝚞𝚝 𝚠𝚎 𝚠𝚒𝚕𝚕 𝚗𝚎𝚟𝚎𝚛 𝚔𝚗𝚘...      1           NaN\n",
       "24352  This #depression will not #defeat me. #MentalH...      1           NaN\n",
       "24901  I’m not over you…. 💔 #sad #relationship #heart...      1           NaN\n",
       "25058                                        i’m so #sad      1           NaN\n",
       "25128  #Sad about #Tomorrow\\n#Sorry but it's not my #...      1           NaN\n",
       "25392             𝘏𝘰𝘸 𝘥𝘰 𝘸𝘦 𝘴𝘬𝘪𝘱 𝘵𝘩𝘦 𝘴𝘢𝘥 𝘱𝘢𝘳𝘵𝘴...?? #sad      1           NaN\n",
       "25433  #WRRV #greatmusic#LIVEUP #life #onedayatatime ...      1           NaN\n",
       "25669           #Dolphins NOW WHAT!!!\\n#SAD !!!!!!!!!!!!      1           NaN\n",
       "25975                                        i’m so #sad      1           NaN\n",
       "26948                                        Y am I #sad      1           NaN\n",
       "27086                                          very #sad      1           NaN\n",
       "27122                                     i’m so so #sad      1           NaN"
      ]
     },
     "execution_count": 38,
     "metadata": {},
     "output_type": "execute_result"
    }
   ],
   "source": [
    "final_data[final_data[\"cleaned_tweet\"].isnull()]"
   ]
  },
  {
   "cell_type": "code",
   "execution_count": 39,
   "metadata": {},
   "outputs": [],
   "source": [
    "final_data.dropna(subset=[\"cleaned_tweet\"], inplace=True)"
   ]
  },
  {
   "cell_type": "code",
   "execution_count": 40,
   "metadata": {
    "scrolled": true
   },
   "outputs": [
    {
     "data": {
      "text/html": [
       "<div>\n",
       "<style scoped>\n",
       "    .dataframe tbody tr th:only-of-type {\n",
       "        vertical-align: middle;\n",
       "    }\n",
       "\n",
       "    .dataframe tbody tr th {\n",
       "        vertical-align: top;\n",
       "    }\n",
       "\n",
       "    .dataframe thead th {\n",
       "        text-align: right;\n",
       "    }\n",
       "</style>\n",
       "<table border=\"1\" class=\"dataframe\">\n",
       "  <thead>\n",
       "    <tr style=\"text-align: right;\">\n",
       "      <th></th>\n",
       "      <th>text</th>\n",
       "      <th>label</th>\n",
       "      <th>cleaned_tweet</th>\n",
       "    </tr>\n",
       "  </thead>\n",
       "  <tbody>\n",
       "  </tbody>\n",
       "</table>\n",
       "</div>"
      ],
      "text/plain": [
       "Empty DataFrame\n",
       "Columns: [text, label, cleaned_tweet]\n",
       "Index: []"
      ]
     },
     "execution_count": 40,
     "metadata": {},
     "output_type": "execute_result"
    }
   ],
   "source": [
    "final_data[final_data[\"cleaned_tweet\"].isnull()]"
   ]
  },
  {
   "cell_type": "code",
   "execution_count": 41,
   "metadata": {},
   "outputs": [],
   "source": [
    "from nltk import pos_tag"
   ]
  },
  {
   "cell_type": "code",
   "execution_count": 42,
   "metadata": {},
   "outputs": [
    {
     "name": "stderr",
     "output_type": "stream",
     "text": [
      "[nltk_data] Downloading package averaged_perceptron_tagger to\n",
      "[nltk_data]     C:\\Users\\yashd\\AppData\\Roaming\\nltk_data...\n",
      "[nltk_data]   Package averaged_perceptron_tagger is already up-to-\n",
      "[nltk_data]       date!\n"
     ]
    },
    {
     "data": {
      "text/plain": [
       "True"
      ]
     },
     "execution_count": 42,
     "metadata": {},
     "output_type": "execute_result"
    }
   ],
   "source": [
    "nltk.download('averaged_perceptron_tagger')"
   ]
  },
  {
   "cell_type": "code",
   "execution_count": 43,
   "metadata": {},
   "outputs": [],
   "source": [
    "depressive_tweets_arr = [x for x in temp_depression['text']]\n",
    "random_tweets_arr = [x for x in temp_normal['text']]\n",
    "dep_list = clean_tweet(depressive_tweets_arr)\n",
    "normal_list = clean_tweet(random_tweets_arr)"
   ]
  },
  {
   "cell_type": "code",
   "execution_count": 44,
   "metadata": {},
   "outputs": [],
   "source": [
    "\n",
    "def getadjectives(tweet):\n",
    "    tweet = nltk.word_tokenize(tweet)   \n",
    "    tweet = [word for (word, tag) in pos_tag(tweet)\n",
    "             if tag == \"JJ\"]   \n",
    "    return \" \".join(tweet)   \n"
   ]
  },
  {
   "cell_type": "code",
   "execution_count": 45,
   "metadata": {},
   "outputs": [],
   "source": [
    "tweets_long_string = [getadjectives(x) for x in dep_list]\n",
    "tweets_list=[]\n",
    "for item in tweets_long_string:\n",
    "    item = item.split()\n",
    "    for i in item:\n",
    "        tweets_list.append(i)"
   ]
  },
  {
   "cell_type": "code",
   "execution_count": 46,
   "metadata": {},
   "outputs": [],
   "source": [
    "from collections import Counter\n",
    "counts = Counter(tweets_list)\n",
    "dep_word_list = pd.DataFrame.from_dict(counts, orient='index').reset_index()\n",
    "dep_word_list.columns = ['Words', 'Count']\n",
    "dep_word_list.sort_values(by='Count', ascending=False, inplace=True)"
   ]
  },
  {
   "cell_type": "code",
   "execution_count": 47,
   "metadata": {
    "scrolled": true
   },
   "outputs": [
    {
     "data": {
      "text/html": [
       "<div>\n",
       "<style scoped>\n",
       "    .dataframe tbody tr th:only-of-type {\n",
       "        vertical-align: middle;\n",
       "    }\n",
       "\n",
       "    .dataframe tbody tr th {\n",
       "        vertical-align: top;\n",
       "    }\n",
       "\n",
       "    .dataframe thead th {\n",
       "        text-align: right;\n",
       "    }\n",
       "</style>\n",
       "<table border=\"1\" class=\"dataframe\">\n",
       "  <thead>\n",
       "    <tr style=\"text-align: right;\">\n",
       "      <th></th>\n",
       "      <th>Words</th>\n",
       "      <th>Count</th>\n",
       "    </tr>\n",
       "  </thead>\n",
       "  <tbody>\n",
       "    <tr>\n",
       "      <th>32</th>\n",
       "      <td>mental</td>\n",
       "      <td>1247</td>\n",
       "    </tr>\n",
       "    <tr>\n",
       "      <th>31</th>\n",
       "      <td>good</td>\n",
       "      <td>773</td>\n",
       "    </tr>\n",
       "    <tr>\n",
       "      <th>23</th>\n",
       "      <td>u</td>\n",
       "      <td>594</td>\n",
       "    </tr>\n",
       "    <tr>\n",
       "      <th>9</th>\n",
       "      <td>much</td>\n",
       "      <td>465</td>\n",
       "    </tr>\n",
       "    <tr>\n",
       "      <th>143</th>\n",
       "      <td>new</td>\n",
       "      <td>459</td>\n",
       "    </tr>\n",
       "  </tbody>\n",
       "</table>\n",
       "</div>"
      ],
      "text/plain": [
       "      Words  Count\n",
       "32   mental   1247\n",
       "31     good    773\n",
       "23        u    594\n",
       "9      much    465\n",
       "143     new    459"
      ]
     },
     "execution_count": 47,
     "metadata": {},
     "output_type": "execute_result"
    }
   ],
   "source": [
    "dep_word_list.head()"
   ]
  },
  {
   "cell_type": "code",
   "execution_count": 48,
   "metadata": {},
   "outputs": [],
   "source": [
    "tweets_long_string = [getadjectives(x) for x in normal_list]\n",
    "tweets_list=[]\n",
    "for item in tweets_long_string:\n",
    "    item = item.split()\n",
    "    for i in item:\n",
    "        tweets_list.append(i)"
   ]
  },
  {
   "cell_type": "code",
   "execution_count": 49,
   "metadata": {},
   "outputs": [],
   "source": [
    "from collections import Counter\n",
    "counts = Counter(tweets_list)\n",
    "normal_word_list = pd.DataFrame.from_dict(counts, orient='index').reset_index()\n",
    "normal_word_list.columns = ['Words', 'Count']\n",
    "normal_word_list.sort_values(by='Count', ascending=False, inplace=True)"
   ]
  },
  {
   "cell_type": "code",
   "execution_count": 50,
   "metadata": {},
   "outputs": [
    {
     "data": {
      "text/html": [
       "<div>\n",
       "<style scoped>\n",
       "    .dataframe tbody tr th:only-of-type {\n",
       "        vertical-align: middle;\n",
       "    }\n",
       "\n",
       "    .dataframe tbody tr th {\n",
       "        vertical-align: top;\n",
       "    }\n",
       "\n",
       "    .dataframe thead th {\n",
       "        text-align: right;\n",
       "    }\n",
       "</style>\n",
       "<table border=\"1\" class=\"dataframe\">\n",
       "  <thead>\n",
       "    <tr style=\"text-align: right;\">\n",
       "      <th></th>\n",
       "      <th>Words</th>\n",
       "      <th>Count</th>\n",
       "    </tr>\n",
       "  </thead>\n",
       "  <tbody>\n",
       "    <tr>\n",
       "      <th>147</th>\n",
       "      <td>senior</td>\n",
       "      <td>394</td>\n",
       "    </tr>\n",
       "    <tr>\n",
       "      <th>69</th>\n",
       "      <td>young</td>\n",
       "      <td>392</td>\n",
       "    </tr>\n",
       "    <tr>\n",
       "      <th>94</th>\n",
       "      <td>high</td>\n",
       "      <td>391</td>\n",
       "    </tr>\n",
       "    <tr>\n",
       "      <th>63</th>\n",
       "      <td>able</td>\n",
       "      <td>384</td>\n",
       "    </tr>\n",
       "    <tr>\n",
       "      <th>4</th>\n",
       "      <td>successful</td>\n",
       "      <td>379</td>\n",
       "    </tr>\n",
       "  </tbody>\n",
       "</table>\n",
       "</div>"
      ],
      "text/plain": [
       "          Words  Count\n",
       "147      senior    394\n",
       "69        young    392\n",
       "94         high    391\n",
       "63         able    384\n",
       "4    successful    379"
      ]
     },
     "execution_count": 50,
     "metadata": {},
     "output_type": "execute_result"
    }
   ],
   "source": [
    "normal_word_list.head()"
   ]
  },
  {
   "cell_type": "code",
   "execution_count": 51,
   "metadata": {
    "executionInfo": {
     "elapsed": 1,
     "status": "ok",
     "timestamp": 1712349883653,
     "user": {
      "displayName": "Akshat Sahu",
      "userId": "04820876765146263380"
     },
     "user_tz": 240
    },
    "id": "KY3IJdSwEzq4"
   },
   "outputs": [],
   "source": [
    "def data_dis(dataFile):\n",
    "    return sns.countplot(x=\"label\", data=dataFile, palette=\"hls\")"
   ]
  },
  {
   "cell_type": "code",
   "execution_count": 52,
   "metadata": {
    "colab": {
     "base_uri": "https://localhost:8080/",
     "height": 553
    },
    "executionInfo": {
     "elapsed": 496,
     "status": "ok",
     "timestamp": 1712349884148,
     "user": {
      "displayName": "Akshat Sahu",
      "userId": "04820876765146263380"
     },
     "user_tz": 240
    },
    "id": "38OlhCAZE01J",
    "outputId": "37bd1037-5f37-40e0-f4af-400831dc92cd"
   },
   "outputs": [
    {
     "data": {
      "text/plain": [
       "<Axes: xlabel='label', ylabel='count'>"
      ]
     },
     "execution_count": 52,
     "metadata": {},
     "output_type": "execute_result"
    },
    {
     "data": {
      "image/png": "[encoded data removed]",
      "text/plain": [
       "<Figure size 640x480 with 1 Axes>"
      ]
     },
     "metadata": {},
     "output_type": "display_data"
    }
   ],
   "source": [
    "sns.countplot(x=\"label\", data=final_data, palette=\"hls\")"
   ]
  },
  {
   "cell_type": "code",
   "execution_count": 53,
   "metadata": {
    "executionInfo": {
     "elapsed": 1,
     "status": "ok",
     "timestamp": 1712349884148,
     "user": {
      "displayName": "Akshat Sahu",
      "userId": "04820876765146263380"
     },
     "user_tz": 240
    },
    "id": "-rKh3reuqyM6"
   },
   "outputs": [
    {
     "name": "stdout",
     "output_type": "stream",
     "text": [
      "Requirement already satisfied: spacy in c:\\users\\yashd\\anaconda3\\lib\\site-packages (3.4.4)\n",
      "Requirement already satisfied: spacy-legacy<3.1.0,>=3.0.10 in c:\\users\\yashd\\anaconda3\\lib\\site-packages (from spacy) (3.0.12)\n",
      "Requirement already satisfied: spacy-loggers<2.0.0,>=1.0.0 in c:\\users\\yashd\\anaconda3\\lib\\site-packages (from spacy) (1.0.5)\n",
      "Requirement already satisfied: murmurhash<1.1.0,>=0.28.0 in c:\\users\\yashd\\anaconda3\\lib\\site-packages (from spacy) (1.0.10)\n",
      "Requirement already satisfied: cymem<2.1.0,>=2.0.2 in c:\\users\\yashd\\anaconda3\\lib\\site-packages (from spacy) (2.0.8)\n",
      "Requirement already satisfied: preshed<3.1.0,>=3.0.2 in c:\\users\\yashd\\anaconda3\\lib\\site-packages (from spacy) (3.0.9)\n",
      "Requirement already satisfied: thinc<8.2.0,>=8.1.0 in c:\\users\\yashd\\anaconda3\\lib\\site-packages (from spacy) (8.1.12)\n",
      "Requirement already satisfied: wasabi<1.1.0,>=0.9.1 in c:\\users\\yashd\\anaconda3\\lib\\site-packages (from spacy) (0.10.1)\n",
      "Requirement already satisfied: srsly<3.0.0,>=2.4.3 in c:\\users\\yashd\\anaconda3\\lib\\site-packages (from spacy) (2.4.8)\n",
      "Requirement already satisfied: catalogue<2.1.0,>=2.0.6 in c:\\users\\yashd\\anaconda3\\lib\\site-packages (from spacy) (2.0.10)\n",
      "Requirement already satisfied: typer<0.8.0,>=0.3.0 in c:\\users\\yashd\\anaconda3\\lib\\site-packages (from spacy) (0.7.0)\n",
      "Requirement already satisfied: pathy>=0.3.5 in c:\\users\\yashd\\anaconda3\\lib\\site-packages (from spacy) (0.11.0)\n",
      "Requirement already satisfied: smart-open<7.0.0,>=5.2.1 in c:\\users\\yashd\\anaconda3\\lib\\site-packages (from spacy) (5.2.1)\n",
      "Requirement already satisfied: tqdm<5.0.0,>=4.38.0 in c:\\users\\yashd\\anaconda3\\lib\\site-packages (from spacy) (4.65.0)\n",
      "Requirement already satisfied: numpy>=1.15.0 in c:\\users\\yashd\\anaconda3\\lib\\site-packages (from spacy) (1.24.3)\n",
      "Requirement already satisfied: requests<3.0.0,>=2.13.0 in c:\\users\\yashd\\anaconda3\\lib\\site-packages (from spacy) (2.31.0)\n",
      "Requirement already satisfied: pydantic!=1.8,!=1.8.1,<1.11.0,>=1.7.4 in c:\\users\\yashd\\anaconda3\\lib\\site-packages (from spacy) (1.10.12)\n",
      "Requirement already satisfied: jinja2 in c:\\users\\yashd\\anaconda3\\lib\\site-packages (from spacy) (3.1.2)\n",
      "Requirement already satisfied: setuptools in c:\\users\\yashd\\anaconda3\\lib\\site-packages (from spacy) (68.0.0)\n",
      "Requirement already satisfied: packaging>=20.0 in c:\\users\\yashd\\anaconda3\\lib\\site-packages (from spacy) (23.0)\n",
      "Requirement already satisfied: langcodes<4.0.0,>=3.2.0 in c:\\users\\yashd\\anaconda3\\lib\\site-packages (from spacy) (3.3.0)\n",
      "Requirement already satisfied: pathlib-abc==0.1.1 in c:\\users\\yashd\\anaconda3\\lib\\site-packages (from pathy>=0.3.5->spacy) (0.1.1)\n",
      "Requirement already satisfied: typing-extensions>=4.2.0 in c:\\users\\yashd\\anaconda3\\lib\\site-packages (from pydantic!=1.8,!=1.8.1,<1.11.0,>=1.7.4->spacy) (4.7.1)\n",
      "Requirement already satisfied: charset-normalizer<4,>=2 in c:\\users\\yashd\\anaconda3\\lib\\site-packages (from requests<3.0.0,>=2.13.0->spacy) (2.0.4)\n",
      "Requirement already satisfied: idna<4,>=2.5 in c:\\users\\yashd\\anaconda3\\lib\\site-packages (from requests<3.0.0,>=2.13.0->spacy) (3.4)\n",
      "Requirement already satisfied: urllib3<3,>=1.21.1 in c:\\users\\yashd\\anaconda3\\lib\\site-packages (from requests<3.0.0,>=2.13.0->spacy) (1.26.16)\n",
      "Requirement already satisfied: certifi>=2017.4.17 in c:\\users\\yashd\\anaconda3\\lib\\site-packages (from requests<3.0.0,>=2.13.0->spacy) (2023.7.22)\n",
      "Requirement already satisfied: blis<0.8.0,>=0.7.8 in c:\\users\\yashd\\anaconda3\\lib\\site-packages (from thinc<8.2.0,>=8.1.0->spacy) (0.7.11)\n",
      "Requirement already satisfied: confection<1.0.0,>=0.0.1 in c:\\users\\yashd\\anaconda3\\lib\\site-packages (from thinc<8.2.0,>=8.1.0->spacy) (0.1.4)\n",
      "Requirement already satisfied: colorama in c:\\users\\yashd\\anaconda3\\lib\\site-packages (from tqdm<5.0.0,>=4.38.0->spacy) (0.4.6)\n",
      "Requirement already satisfied: click<9.0.0,>=7.1.1 in c:\\users\\yashd\\anaconda3\\lib\\site-packages (from typer<0.8.0,>=0.3.0->spacy) (8.0.4)\n",
      "Requirement already satisfied: MarkupSafe>=2.0 in c:\\users\\yashd\\anaconda3\\lib\\site-packages (from jinja2->spacy) (2.1.1)\n"
     ]
    }
   ],
   "source": [
    "!pip install spacy"
   ]
  },
  {
   "cell_type": "code",
   "execution_count": 54,
   "metadata": {
    "executionInfo": {
     "elapsed": 1,
     "status": "ok",
     "timestamp": 1712349884148,
     "user": {
      "displayName": "Akshat Sahu",
      "userId": "04820876765146263380"
     },
     "user_tz": 240
    },
    "id": "WcB7yLzBq_r5"
   },
   "outputs": [
    {
     "name": "stdout",
     "output_type": "stream",
     "text": [
      "Collecting https://github.com/explosion/spacy-models/releases/download/en_core_web_lg-3.4.0/en_core_web_lg-3.4.0.tar.gz\n",
      "  Downloading https://github.com/explosion/spacy-models/releases/download/en_core_web_lg-3.4.0/en_core_web_lg-3.4.0.tar.gz (587.7 MB)\n",
      "     ---------------------------------------- 0.0/587.7 MB ? eta -:--:--\n",
      "     --------------------------------------- 1.0/587.7 MB 20.0 MB/s eta 0:00:30\n",
      "     --------------------------------------- 3.0/587.7 MB 31.9 MB/s eta 0:00:19\n",
      "     --------------------------------------- 5.0/587.7 MB 35.2 MB/s eta 0:00:17\n",
      "     --------------------------------------- 7.0/587.7 MB 37.1 MB/s eta 0:00:16\n",
      "      -------------------------------------- 8.9/587.7 MB 38.2 MB/s eta 0:00:16\n",
      "      ------------------------------------- 10.9/587.7 MB 43.7 MB/s eta 0:00:14\n",
      "      ------------------------------------- 13.0/587.7 MB 43.7 MB/s eta 0:00:14\n",
      "      ------------------------------------- 14.8/587.7 MB 43.7 MB/s eta 0:00:14\n",
      "     - ------------------------------------ 16.8/587.7 MB 43.5 MB/s eta 0:00:14\n",
      "     - ------------------------------------ 18.8/587.7 MB 43.5 MB/s eta 0:00:14\n",
      "     - ------------------------------------ 20.8/587.7 MB 43.5 MB/s eta 0:00:14\n",
      "     - ------------------------------------ 22.8/587.7 MB 43.7 MB/s eta 0:00:13\n",
      "     - ------------------------------------ 24.6/587.7 MB 43.7 MB/s eta 0:00:13\n",
      "     - ------------------------------------ 26.6/587.7 MB 43.7 MB/s eta 0:00:13\n",
      "     - ------------------------------------ 28.6/587.7 MB 43.7 MB/s eta 0:00:13\n",
      "     - ------------------------------------ 30.5/587.7 MB 40.9 MB/s eta 0:00:14\n",
      "     -- ----------------------------------- 32.1/587.7 MB 40.9 MB/s eta 0:00:14\n",
      "     -- ----------------------------------- 34.3/587.7 MB 40.9 MB/s eta 0:00:14\n",
      "     -- ----------------------------------- 35.8/587.7 MB 40.9 MB/s eta 0:00:14\n",
      "     -- ----------------------------------- 37.7/587.7 MB 38.6 MB/s eta 0:00:15\n",
      "     -- ----------------------------------- 39.5/587.7 MB 38.6 MB/s eta 0:00:15\n",
      "     -- ----------------------------------- 41.4/587.7 MB 38.6 MB/s eta 0:00:15\n",
      "     -- ----------------------------------- 42.8/587.7 MB 38.5 MB/s eta 0:00:15\n",
      "     -- ----------------------------------- 43.9/587.7 MB 34.4 MB/s eta 0:00:16\n",
      "     -- ----------------------------------- 45.6/587.7 MB 34.4 MB/s eta 0:00:16\n",
      "     --- ---------------------------------- 47.1/587.7 MB 34.4 MB/s eta 0:00:16\n",
      "     --- ---------------------------------- 48.9/587.7 MB 32.7 MB/s eta 0:00:17\n",
      "     --- ---------------------------------- 50.6/587.7 MB 32.8 MB/s eta 0:00:17\n",
      "     --- ---------------------------------- 52.6/587.7 MB 34.4 MB/s eta 0:00:16\n",
      "     --- ---------------------------------- 54.3/587.7 MB 36.4 MB/s eta 0:00:15\n",
      "     --- ---------------------------------- 56.0/587.7 MB 36.4 MB/s eta 0:00:15\n",
      "     --- ---------------------------------- 57.2/587.7 MB 36.4 MB/s eta 0:00:15\n",
      "     --- ---------------------------------- 58.7/587.7 MB 34.4 MB/s eta 0:00:16\n",
      "     --- ---------------------------------- 60.1/587.7 MB 34.4 MB/s eta 0:00:16\n",
      "     --- ---------------------------------- 61.7/587.7 MB 32.7 MB/s eta 0:00:17\n",
      "     ---- --------------------------------- 63.2/587.7 MB 31.2 MB/s eta 0:00:17\n",
      "     ---- --------------------------------- 64.7/587.7 MB 31.2 MB/s eta 0:00:17\n",
      "     ---- --------------------------------- 66.2/587.7 MB 31.2 MB/s eta 0:00:17\n",
      "     ---- --------------------------------- 67.7/587.7 MB 31.2 MB/s eta 0:00:17\n",
      "     ---- --------------------------------- 69.3/587.7 MB 31.2 MB/s eta 0:00:17\n",
      "     ---- --------------------------------- 70.7/587.7 MB 32.8 MB/s eta 0:00:16\n",
      "     ---- --------------------------------- 72.3/587.7 MB 32.8 MB/s eta 0:00:16\n",
      "     ---- --------------------------------- 73.8/587.7 MB 32.7 MB/s eta 0:00:16\n",
      "     ---- --------------------------------- 75.4/587.7 MB 34.4 MB/s eta 0:00:15\n",
      "     ---- --------------------------------- 76.9/587.7 MB 34.4 MB/s eta 0:00:15\n",
      "     ----- -------------------------------- 78.4/587.7 MB 34.4 MB/s eta 0:00:15\n",
      "     ----- -------------------------------- 79.9/587.7 MB 32.8 MB/s eta 0:00:16\n",
      "     ----- -------------------------------- 81.4/587.7 MB 32.8 MB/s eta 0:00:16\n",
      "     ----- -------------------------------- 82.9/587.7 MB 32.8 MB/s eta 0:00:16\n",
      "     ----- -------------------------------- 84.4/587.7 MB 32.8 MB/s eta 0:00:16\n",
      "     ----- -------------------------------- 86.1/587.7 MB 34.4 MB/s eta 0:00:15\n",
      "     ----- -------------------------------- 87.5/587.7 MB 32.7 MB/s eta 0:00:16\n",
      "     ----- -------------------------------- 89.1/587.7 MB 32.7 MB/s eta 0:00:16\n",
      "     ----- -------------------------------- 90.6/587.7 MB 32.7 MB/s eta 0:00:16\n",
      "     ----- -------------------------------- 92.2/587.7 MB 32.8 MB/s eta 0:00:16\n",
      "     ------ ------------------------------- 93.9/587.7 MB 34.4 MB/s eta 0:00:15\n",
      "     ------ ------------------------------- 95.6/587.7 MB 34.4 MB/s eta 0:00:15\n",
      "     ------ ------------------------------- 97.3/587.7 MB 34.4 MB/s eta 0:00:15\n",
      "     ------ ------------------------------- 99.1/587.7 MB 36.4 MB/s eta 0:00:14\n",
      "     ------ ------------------------------ 100.2/587.7 MB 34.4 MB/s eta 0:00:15\n",
      "     ------ ------------------------------ 101.7/587.7 MB 34.4 MB/s eta 0:00:15\n",
      "     ------ ------------------------------ 103.1/587.7 MB 32.7 MB/s eta 0:00:15\n",
      "     ------ ------------------------------ 104.5/587.7 MB 32.8 MB/s eta 0:00:15\n",
      "     ------ ------------------------------ 105.8/587.7 MB 31.2 MB/s eta 0:00:16\n",
      "     ------ ------------------------------ 107.3/587.7 MB 31.2 MB/s eta 0:00:16\n",
      "     ------ ------------------------------ 108.6/587.7 MB 29.7 MB/s eta 0:00:17\n",
      "     ------ ------------------------------ 110.1/587.7 MB 29.7 MB/s eta 0:00:17\n",
      "     ------- ----------------------------- 111.4/587.7 MB 29.7 MB/s eta 0:00:17\n",
      "     ------- ----------------------------- 112.8/587.7 MB 29.7 MB/s eta 0:00:16\n",
      "     ------- ----------------------------- 113.9/587.7 MB 28.4 MB/s eta 0:00:17\n",
      "     ------- ----------------------------- 115.0/587.7 MB 27.3 MB/s eta 0:00:18\n",
      "     ------- ----------------------------- 116.1/587.7 MB 27.3 MB/s eta 0:00:18\n",
      "     ------- ----------------------------- 117.3/587.7 MB 27.3 MB/s eta 0:00:18\n",
      "     ------- ----------------------------- 118.4/587.7 MB 26.2 MB/s eta 0:00:18\n",
      "     ------- ----------------------------- 119.6/587.7 MB 26.2 MB/s eta 0:00:18\n",
      "     ------- ----------------------------- 120.8/587.7 MB 26.2 MB/s eta 0:00:18\n",
      "     ------- ----------------------------- 121.9/587.7 MB 25.2 MB/s eta 0:00:19\n",
      "     ------- ----------------------------- 123.1/587.7 MB 24.2 MB/s eta 0:00:20\n",
      "     ------- ----------------------------- 124.4/587.7 MB 25.2 MB/s eta 0:00:19\n",
      "     ------- ----------------------------- 125.6/587.7 MB 25.2 MB/s eta 0:00:19\n",
      "     ------- ----------------------------- 126.8/587.7 MB 25.2 MB/s eta 0:00:19\n",
      "     -------- ---------------------------- 127.9/587.7 MB 25.2 MB/s eta 0:00:19\n",
      "     -------- ---------------------------- 129.0/587.7 MB 25.2 MB/s eta 0:00:19\n",
      "     -------- ---------------------------- 130.3/587.7 MB 25.2 MB/s eta 0:00:19\n",
      "     -------- ---------------------------- 131.5/587.7 MB 26.2 MB/s eta 0:00:18\n",
      "     -------- ---------------------------- 132.7/587.7 MB 26.2 MB/s eta 0:00:18\n",
      "     -------- ---------------------------- 134.2/587.7 MB 27.3 MB/s eta 0:00:17\n",
      "     -------- ---------------------------- 135.4/587.7 MB 27.3 MB/s eta 0:00:17\n",
      "     -------- ---------------------------- 136.8/587.7 MB 26.2 MB/s eta 0:00:18\n",
      "     -------- ---------------------------- 138.1/587.7 MB 27.3 MB/s eta 0:00:17\n",
      "     -------- ---------------------------- 139.4/587.7 MB 28.5 MB/s eta 0:00:16\n",
      "     -------- ---------------------------- 140.8/587.7 MB 28.5 MB/s eta 0:00:16\n",
      "     -------- ---------------------------- 142.2/587.7 MB 29.7 MB/s eta 0:00:15\n",
      "     --------- --------------------------- 143.5/587.7 MB 29.7 MB/s eta 0:00:15\n",
      "     --------- --------------------------- 145.0/587.7 MB 29.7 MB/s eta 0:00:15\n",
      "     --------- --------------------------- 146.4/587.7 MB 29.7 MB/s eta 0:00:15\n",
      "     --------- --------------------------- 147.7/587.7 MB 29.7 MB/s eta 0:00:15\n",
      "     --------- --------------------------- 149.0/587.7 MB 29.8 MB/s eta 0:00:15\n",
      "     --------- --------------------------- 150.5/587.7 MB 29.8 MB/s eta 0:00:15\n",
      "     --------- --------------------------- 151.9/587.7 MB 29.7 MB/s eta 0:00:15\n",
      "     --------- --------------------------- 153.3/587.7 MB 29.7 MB/s eta 0:00:15\n",
      "     --------- --------------------------- 154.6/587.7 MB 29.7 MB/s eta 0:00:15\n",
      "     --------- --------------------------- 156.0/587.7 MB 29.7 MB/s eta 0:00:15\n",
      "     --------- --------------------------- 157.4/587.7 MB 29.7 MB/s eta 0:00:15\n",
      "     ---------- -------------------------- 158.9/587.7 MB 29.7 MB/s eta 0:00:15\n",
      "     ---------- -------------------------- 160.4/587.7 MB 31.2 MB/s eta 0:00:14\n",
      "     ---------- -------------------------- 161.9/587.7 MB 31.2 MB/s eta 0:00:14\n",
      "     ---------- -------------------------- 163.3/587.7 MB 31.2 MB/s eta 0:00:14\n",
      "     ---------- -------------------------- 164.4/587.7 MB 29.7 MB/s eta 0:00:15\n",
      "     ---------- -------------------------- 165.5/587.7 MB 29.7 MB/s eta 0:00:15\n",
      "     ---------- -------------------------- 166.6/587.7 MB 28.4 MB/s eta 0:00:15\n",
      "     ---------- -------------------------- 167.8/587.7 MB 28.4 MB/s eta 0:00:15\n",
      "     ---------- -------------------------- 169.1/587.7 MB 27.3 MB/s eta 0:00:16\n",
      "     ---------- -------------------------- 170.3/587.7 MB 26.2 MB/s eta 0:00:16\n",
      "     ---------- -------------------------- 171.4/587.7 MB 25.2 MB/s eta 0:00:17\n",
      "     ---------- -------------------------- 172.6/587.7 MB 25.2 MB/s eta 0:00:17\n",
      "     ---------- -------------------------- 173.7/587.7 MB 25.2 MB/s eta 0:00:17\n",
      "     ----------- ------------------------- 174.8/587.7 MB 25.2 MB/s eta 0:00:17\n",
      "     ----------- ------------------------- 176.0/587.7 MB 25.2 MB/s eta 0:00:17\n",
      "     ----------- ------------------------- 177.1/587.7 MB 26.2 MB/s eta 0:00:16\n",
      "     ----------- ------------------------- 178.5/587.7 MB 26.2 MB/s eta 0:00:16\n",
      "     ----------- ------------------------- 179.7/587.7 MB 26.2 MB/s eta 0:00:16\n",
      "     ----------- ------------------------- 181.1/587.7 MB 26.2 MB/s eta 0:00:16\n",
      "     ----------- ------------------------- 182.4/587.7 MB 27.3 MB/s eta 0:00:15\n",
      "     ----------- ------------------------- 183.6/587.7 MB 27.3 MB/s eta 0:00:15\n",
      "     ----------- ------------------------- 184.8/587.7 MB 27.3 MB/s eta 0:00:15\n",
      "     ----------- ------------------------- 186.2/587.7 MB 28.5 MB/s eta 0:00:15\n",
      "     ----------- ------------------------- 187.4/587.7 MB 28.5 MB/s eta 0:00:15\n",
      "     ----------- ------------------------- 188.8/587.7 MB 27.3 MB/s eta 0:00:15\n",
      "     ----------- ------------------------- 190.1/587.7 MB 28.4 MB/s eta 0:00:14\n",
      "     ------------ ------------------------ 191.4/587.7 MB 28.4 MB/s eta 0:00:14\n",
      "     ------------ ------------------------ 192.8/587.7 MB 28.4 MB/s eta 0:00:14\n",
      "     ------------ ------------------------ 194.2/587.7 MB 28.5 MB/s eta 0:00:14\n",
      "     ------------ ------------------------ 195.7/587.7 MB 29.8 MB/s eta 0:00:14\n",
      "     ------------ ------------------------ 197.3/587.7 MB 29.7 MB/s eta 0:00:14\n",
      "     ------------ ------------------------ 198.7/587.7 MB 29.7 MB/s eta 0:00:14\n",
      "     ------------ ------------------------ 200.1/587.7 MB 29.7 MB/s eta 0:00:14\n",
      "     ------------ ------------------------ 201.5/587.7 MB 31.2 MB/s eta 0:00:13\n",
      "     ------------ ------------------------ 203.1/587.7 MB 31.2 MB/s eta 0:00:13\n",
      "     ------------ ------------------------ 204.6/587.7 MB 31.1 MB/s eta 0:00:13\n",
      "     ------------ ------------------------ 206.3/587.7 MB 32.8 MB/s eta 0:00:12\n",
      "     ------------- ----------------------- 207.6/587.7 MB 32.7 MB/s eta 0:00:12\n",
      "     ------------- ----------------------- 209.2/587.7 MB 32.7 MB/s eta 0:00:12\n",
      "     ------------- ----------------------- 210.6/587.7 MB 32.8 MB/s eta 0:00:12\n",
      "     ------------- ----------------------- 212.2/587.7 MB 34.4 MB/s eta 0:00:11\n",
      "     ------------- ----------------------- 213.7/587.7 MB 32.8 MB/s eta 0:00:12\n",
      "     ------------- ----------------------- 215.2/587.7 MB 32.8 MB/s eta 0:00:12\n",
      "     ------------- ----------------------- 216.8/587.7 MB 32.7 MB/s eta 0:00:12\n",
      "     ------------- ----------------------- 218.1/587.7 MB 32.7 MB/s eta 0:00:12\n",
      "     ------------- ----------------------- 219.7/587.7 MB 32.7 MB/s eta 0:00:12\n",
      "     ------------- ----------------------- 221.3/587.7 MB 32.7 MB/s eta 0:00:12\n",
      "     -------------- ---------------------- 222.9/587.7 MB 32.8 MB/s eta 0:00:12\n",
      "     -------------- ---------------------- 224.5/587.7 MB 32.8 MB/s eta 0:00:12\n",
      "     -------------- ---------------------- 226.1/587.7 MB 32.8 MB/s eta 0:00:12\n",
      "     -------------- ---------------------- 227.7/587.7 MB 34.4 MB/s eta 0:00:11\n",
      "     -------------- ---------------------- 229.4/587.7 MB 34.4 MB/s eta 0:00:11\n",
      "     -------------- ---------------------- 230.9/587.7 MB 34.4 MB/s eta 0:00:11\n",
      "     -------------- ---------------------- 232.5/587.7 MB 34.4 MB/s eta 0:00:11\n",
      "     -------------- ---------------------- 234.0/587.7 MB 34.4 MB/s eta 0:00:11\n",
      "     -------------- ---------------------- 235.5/587.7 MB 32.8 MB/s eta 0:00:11\n",
      "     -------------- ---------------------- 237.1/587.7 MB 32.8 MB/s eta 0:00:11\n",
      "     --------------- --------------------- 238.9/587.7 MB 32.8 MB/s eta 0:00:11\n",
      "     --------------- --------------------- 240.3/587.7 MB 32.8 MB/s eta 0:00:11\n",
      "     --------------- --------------------- 241.9/587.7 MB 32.7 MB/s eta 0:00:11\n",
      "     --------------- --------------------- 243.6/587.7 MB 34.4 MB/s eta 0:00:10\n",
      "     --------------- --------------------- 245.4/587.7 MB 34.4 MB/s eta 0:00:10\n",
      "     --------------- --------------------- 247.2/587.7 MB 36.4 MB/s eta 0:00:10\n",
      "     --------------- --------------------- 248.8/587.7 MB 36.4 MB/s eta 0:00:10\n",
      "     --------------- --------------------- 250.5/587.7 MB 38.5 MB/s eta 0:00:09\n",
      "     --------------- --------------------- 252.0/587.7 MB 38.5 MB/s eta 0:00:09\n",
      "     --------------- --------------------- 253.6/587.7 MB 36.4 MB/s eta 0:00:10\n",
      "     ---------------- -------------------- 254.8/587.7 MB 34.4 MB/s eta 0:00:10\n",
      "     ---------------- -------------------- 256.2/587.7 MB 34.4 MB/s eta 0:00:10\n",
      "     ---------------- -------------------- 257.5/587.7 MB 32.8 MB/s eta 0:00:11\n",
      "     ---------------- -------------------- 258.9/587.7 MB 31.2 MB/s eta 0:00:11\n",
      "     ---------------- -------------------- 260.2/587.7 MB 29.7 MB/s eta 0:00:12\n",
      "     ---------------- -------------------- 261.6/587.7 MB 29.7 MB/s eta 0:00:11\n",
      "     ---------------- -------------------- 263.2/587.7 MB 29.7 MB/s eta 0:00:11\n",
      "     ---------------- -------------------- 264.6/587.7 MB 29.8 MB/s eta 0:00:11\n",
      "     ---------------- -------------------- 266.0/587.7 MB 29.8 MB/s eta 0:00:11\n",
      "     ---------------- -------------------- 267.6/587.7 MB 31.2 MB/s eta 0:00:11\n",
      "     ---------------- -------------------- 269.1/587.7 MB 31.2 MB/s eta 0:00:11\n",
      "     ----------------- ------------------- 270.6/587.7 MB 32.7 MB/s eta 0:00:10\n",
      "     ----------------- ------------------- 272.1/587.7 MB 32.7 MB/s eta 0:00:10\n",
      "     ----------------- ------------------- 273.6/587.7 MB 32.7 MB/s eta 0:00:10\n",
      "     ----------------- ------------------- 275.1/587.7 MB 32.7 MB/s eta 0:00:10\n",
      "     ----------------- ------------------- 276.4/587.7 MB 32.8 MB/s eta 0:00:10\n",
      "     ----------------- ------------------- 278.0/587.7 MB 32.8 MB/s eta 0:00:10\n",
      "     ----------------- ------------------- 279.1/587.7 MB 29.7 MB/s eta 0:00:11\n",
      "     ----------------- ------------------- 280.6/587.7 MB 31.2 MB/s eta 0:00:10\n",
      "     ----------------- ------------------- 281.7/587.7 MB 31.2 MB/s eta 0:00:10\n",
      "     ----------------- ------------------- 283.0/587.7 MB 28.4 MB/s eta 0:00:11\n",
      "     ----------------- ------------------- 284.6/587.7 MB 28.4 MB/s eta 0:00:11\n",
      "     ------------------ ------------------ 286.0/587.7 MB 29.7 MB/s eta 0:00:11\n",
      "     ------------------ ------------------ 287.8/587.7 MB 29.8 MB/s eta 0:00:11\n",
      "     ------------------ ------------------ 288.9/587.7 MB 31.2 MB/s eta 0:00:10\n",
      "     ------------------ ------------------ 289.9/587.7 MB 29.7 MB/s eta 0:00:11\n",
      "     ------------------ ------------------ 291.2/587.7 MB 28.5 MB/s eta 0:00:11\n",
      "     ------------------ ------------------ 292.7/587.7 MB 28.5 MB/s eta 0:00:11\n",
      "     ------------------ ------------------ 294.3/587.7 MB 29.7 MB/s eta 0:00:10\n",
      "     ------------------ ------------------ 295.9/587.7 MB 29.7 MB/s eta 0:00:10\n",
      "     ------------------ ------------------ 297.3/587.7 MB 29.7 MB/s eta 0:00:10\n",
      "     ------------------ ------------------ 298.8/587.7 MB 28.5 MB/s eta 0:00:11\n",
      "     ------------------ ------------------ 300.4/587.7 MB 32.8 MB/s eta 0:00:09\n",
      "     ------------------- ----------------- 302.2/587.7 MB 34.4 MB/s eta 0:00:09\n",
      "     ------------------- ----------------- 303.4/587.7 MB 32.8 MB/s eta 0:00:09\n",
      "     ------------------- ----------------- 305.2/587.7 MB 32.7 MB/s eta 0:00:09\n",
      "     ------------------- ----------------- 307.0/587.7 MB 34.4 MB/s eta 0:00:09\n",
      "     ------------------- ----------------- 308.6/587.7 MB 34.4 MB/s eta 0:00:09\n",
      "     ------------------- ----------------- 310.2/587.7 MB 34.4 MB/s eta 0:00:09\n",
      "     ------------------- ----------------- 311.8/587.7 MB 34.6 MB/s eta 0:00:08\n",
      "     ------------------- ----------------- 313.5/587.7 MB 36.4 MB/s eta 0:00:08\n",
      "     ------------------- ----------------- 315.4/587.7 MB 36.4 MB/s eta 0:00:08\n",
      "     ------------------- ----------------- 316.6/587.7 MB 36.4 MB/s eta 0:00:08\n",
      "     -------------------- ---------------- 318.3/587.7 MB 34.4 MB/s eta 0:00:08\n",
      "     -------------------- ---------------- 320.1/587.7 MB 34.4 MB/s eta 0:00:08\n",
      "     -------------------- ---------------- 320.6/587.7 MB 31.2 MB/s eta 0:00:09\n",
      "     -------------------- ---------------- 321.7/587.7 MB 31.2 MB/s eta 0:00:09\n",
      "     -------------------- ---------------- 323.4/587.7 MB 29.8 MB/s eta 0:00:09\n",
      "     -------------------- ---------------- 324.1/587.7 MB 28.4 MB/s eta 0:00:10\n",
      "     -------------------- ---------------- 326.3/587.7 MB 28.5 MB/s eta 0:00:10\n",
      "     -------------------- ---------------- 328.0/587.7 MB 29.7 MB/s eta 0:00:09\n",
      "     -------------------- ---------------- 329.9/587.7 MB 29.7 MB/s eta 0:00:09\n",
      "     -------------------- ---------------- 331.3/587.7 MB 32.7 MB/s eta 0:00:08\n",
      "     -------------------- ---------------- 333.2/587.7 MB 34.4 MB/s eta 0:00:08\n",
      "     --------------------- --------------- 335.0/587.7 MB 36.3 MB/s eta 0:00:07\n",
      "     --------------------- --------------- 336.7/587.7 MB 36.4 MB/s eta 0:00:07\n",
      "     --------------------- --------------- 338.5/587.7 MB 36.4 MB/s eta 0:00:07\n",
      "     --------------------- --------------- 340.5/587.7 MB 36.4 MB/s eta 0:00:07\n",
      "     --------------------- --------------- 342.2/587.7 MB 38.5 MB/s eta 0:00:07\n",
      "     --------------------- --------------- 344.0/587.7 MB 38.5 MB/s eta 0:00:07\n",
      "     --------------------- --------------- 345.8/587.7 MB 38.5 MB/s eta 0:00:07\n",
      "     --------------------- --------------- 347.5/587.7 MB 38.5 MB/s eta 0:00:07\n",
      "     --------------------- --------------- 349.2/587.7 MB 36.3 MB/s eta 0:00:07\n",
      "     ---------------------- -------------- 350.6/587.7 MB 36.4 MB/s eta 0:00:07\n",
      "     ---------------------- -------------- 351.7/587.7 MB 32.8 MB/s eta 0:00:08\n",
      "     ---------------------- -------------- 353.6/587.7 MB 34.4 MB/s eta 0:00:07\n",
      "     ---------------------- -------------- 355.3/587.7 MB 34.4 MB/s eta 0:00:07\n",
      "     ---------------------- -------------- 357.3/587.7 MB 34.4 MB/s eta 0:00:07\n",
      "     ---------------------- -------------- 359.4/587.7 MB 36.4 MB/s eta 0:00:07\n",
      "     ---------------------- -------------- 361.1/587.7 MB 38.5 MB/s eta 0:00:06\n",
      "     ---------------------- -------------- 363.1/587.7 MB 40.9 MB/s eta 0:00:06\n",
      "     ---------------------- -------------- 364.8/587.7 MB 38.6 MB/s eta 0:00:06\n",
      "     ----------------------- ------------- 366.6/587.7 MB 38.6 MB/s eta 0:00:06\n",
      "     ----------------------- ------------- 368.1/587.7 MB 40.9 MB/s eta 0:00:06\n",
      "     ----------------------- ------------- 369.6/587.7 MB 38.6 MB/s eta 0:00:06\n",
      "     ----------------------- ------------- 371.6/587.7 MB 36.4 MB/s eta 0:00:06\n",
      "     ----------------------- ------------- 373.6/587.7 MB 36.4 MB/s eta 0:00:06\n",
      "     ----------------------- ------------- 375.5/587.7 MB 38.5 MB/s eta 0:00:06\n",
      "     ----------------------- ------------- 377.6/587.7 MB 40.9 MB/s eta 0:00:06\n",
      "     ----------------------- ------------- 379.5/587.7 MB 43.5 MB/s eta 0:00:05\n",
      "     ------------------------ ------------ 381.5/587.7 MB 43.5 MB/s eta 0:00:05\n",
      "     ------------------------ ------------ 383.4/587.7 MB 43.5 MB/s eta 0:00:05\n",
      "     ------------------------ ------------ 385.4/587.7 MB 43.7 MB/s eta 0:00:05\n",
      "     ------------------------ ------------ 387.1/587.7 MB 43.7 MB/s eta 0:00:05\n",
      "     ------------------------ ------------ 389.0/587.7 MB 40.9 MB/s eta 0:00:05\n",
      "     ------------------------ ------------ 391.1/587.7 MB 40.9 MB/s eta 0:00:05\n",
      "     ------------------------ ------------ 393.0/587.7 MB 43.7 MB/s eta 0:00:05\n",
      "     ------------------------ ------------ 394.9/587.7 MB 40.9 MB/s eta 0:00:05\n",
      "     ------------------------ ------------ 396.9/587.7 MB 40.9 MB/s eta 0:00:05\n",
      "     ------------------------- ----------- 398.8/587.7 MB 40.9 MB/s eta 0:00:05\n",
      "     ------------------------- ----------- 400.8/587.7 MB 40.9 MB/s eta 0:00:05\n",
      "     ------------------------- ----------- 402.8/587.7 MB 43.7 MB/s eta 0:00:05\n",
      "     ------------------------- ----------- 404.8/587.7 MB 43.7 MB/s eta 0:00:05\n",
      "     ------------------------- ----------- 406.7/587.7 MB 40.9 MB/s eta 0:00:05\n",
      "     ------------------------- ----------- 408.4/587.7 MB 40.9 MB/s eta 0:00:05\n",
      "     ------------------------- ----------- 409.8/587.7 MB 38.5 MB/s eta 0:00:05\n",
      "     ------------------------- ----------- 411.2/587.7 MB 36.3 MB/s eta 0:00:05\n",
      "     ------------------------- ----------- 412.9/587.7 MB 36.3 MB/s eta 0:00:05\n",
      "     -------------------------- ---------- 414.4/587.7 MB 34.6 MB/s eta 0:00:06\n",
      "     -------------------------- ---------- 415.7/587.7 MB 32.8 MB/s eta 0:00:06\n",
      "     -------------------------- ---------- 417.0/587.7 MB 31.2 MB/s eta 0:00:06\n",
      "     -------------------------- ---------- 418.3/587.7 MB 31.2 MB/s eta 0:00:06\n",
      "     -------------------------- ---------- 419.7/587.7 MB 29.7 MB/s eta 0:00:06\n",
      "     -------------------------- ---------- 421.0/587.7 MB 28.4 MB/s eta 0:00:06\n",
      "     -------------------------- ---------- 422.4/587.7 MB 28.4 MB/s eta 0:00:06\n",
      "     -------------------------- ---------- 423.8/587.7 MB 28.4 MB/s eta 0:00:06\n",
      "     -------------------------- ---------- 425.2/587.7 MB 28.5 MB/s eta 0:00:06\n",
      "     -------------------------- ---------- 426.4/587.7 MB 28.5 MB/s eta 0:00:06\n",
      "     -------------------------- ---------- 427.8/587.7 MB 28.5 MB/s eta 0:00:06\n",
      "     --------------------------- --------- 429.3/587.7 MB 28.5 MB/s eta 0:00:06\n",
      "     --------------------------- --------- 430.8/587.7 MB 29.7 MB/s eta 0:00:06\n",
      "     --------------------------- --------- 432.2/587.7 MB 29.7 MB/s eta 0:00:06\n",
      "     --------------------------- --------- 433.7/587.7 MB 29.7 MB/s eta 0:00:06\n",
      "     --------------------------- --------- 435.2/587.7 MB 29.7 MB/s eta 0:00:06\n",
      "     --------------------------- --------- 436.5/587.7 MB 29.8 MB/s eta 0:00:06\n",
      "     --------------------------- --------- 438.0/587.7 MB 31.2 MB/s eta 0:00:05\n",
      "     --------------------------- --------- 439.4/587.7 MB 32.7 MB/s eta 0:00:05\n",
      "     --------------------------- --------- 440.9/587.7 MB 32.8 MB/s eta 0:00:05\n",
      "     --------------------------- --------- 442.3/587.7 MB 31.2 MB/s eta 0:00:05\n",
      "     --------------------------- --------- 443.8/587.7 MB 31.2 MB/s eta 0:00:05\n",
      "     ---------------------------- -------- 445.2/587.7 MB 31.2 MB/s eta 0:00:05\n",
      "     ---------------------------- -------- 446.7/587.7 MB 32.7 MB/s eta 0:00:05\n",
      "     ---------------------------- -------- 448.3/587.7 MB 32.7 MB/s eta 0:00:05\n",
      "     ---------------------------- -------- 450.0/587.7 MB 32.7 MB/s eta 0:00:05\n",
      "     ---------------------------- -------- 451.7/587.7 MB 34.4 MB/s eta 0:00:04\n",
      "     ---------------------------- -------- 453.4/587.7 MB 34.6 MB/s eta 0:00:04\n",
      "     ---------------------------- -------- 454.9/587.7 MB 34.4 MB/s eta 0:00:04\n",
      "     ---------------------------- -------- 456.6/587.7 MB 36.4 MB/s eta 0:00:04\n",
      "     ---------------------------- -------- 458.2/587.7 MB 36.4 MB/s eta 0:00:04\n",
      "     ---------------------------- -------- 459.7/587.7 MB 34.4 MB/s eta 0:00:04\n",
      "     ----------------------------- ------- 461.3/587.7 MB 34.4 MB/s eta 0:00:04\n",
      "     ----------------------------- ------- 462.5/587.7 MB 32.7 MB/s eta 0:00:04\n",
      "     ----------------------------- ------- 463.9/587.7 MB 32.7 MB/s eta 0:00:04\n",
      "     ----------------------------- ------- 465.2/587.7 MB 31.2 MB/s eta 0:00:04\n",
      "     ----------------------------- ------- 466.6/587.7 MB 31.2 MB/s eta 0:00:04\n",
      "     ----------------------------- ------- 467.9/587.7 MB 29.7 MB/s eta 0:00:05\n",
      "     ----------------------------- ------- 469.2/587.7 MB 29.7 MB/s eta 0:00:04\n",
      "     ----------------------------- ------- 470.5/587.7 MB 28.5 MB/s eta 0:00:05\n",
      "     ----------------------------- ------- 471.8/587.7 MB 28.4 MB/s eta 0:00:05\n",
      "     ----------------------------- ------- 473.1/587.7 MB 28.4 MB/s eta 0:00:05\n",
      "     ----------------------------- ------- 474.5/587.7 MB 28.4 MB/s eta 0:00:04\n",
      "     ----------------------------- ------- 475.9/587.7 MB 28.5 MB/s eta 0:00:04\n",
      "     ------------------------------ ------ 477.3/587.7 MB 29.8 MB/s eta 0:00:04\n",
      "     ------------------------------ ------ 478.7/587.7 MB 29.7 MB/s eta 0:00:04\n",
      "     ------------------------------ ------ 480.2/587.7 MB 29.7 MB/s eta 0:00:04\n",
      "     ------------------------------ ------ 481.7/587.7 MB 29.7 MB/s eta 0:00:04\n",
      "     ------------------------------ ------ 483.2/587.7 MB 31.2 MB/s eta 0:00:04\n",
      "     ------------------------------ ------ 484.9/587.7 MB 31.2 MB/s eta 0:00:04\n",
      "     ------------------------------ ------ 486.4/587.7 MB 31.1 MB/s eta 0:00:04\n",
      "     ------------------------------ ------ 487.9/587.7 MB 32.8 MB/s eta 0:00:04\n",
      "     ------------------------------ ------ 489.5/587.7 MB 32.8 MB/s eta 0:00:03\n",
      "     ------------------------------ ------ 491.0/587.7 MB 32.8 MB/s eta 0:00:03\n",
      "     ------------------------------ ------ 492.3/587.7 MB 32.8 MB/s eta 0:00:03\n",
      "     ------------------------------- ----- 493.9/587.7 MB 32.7 MB/s eta 0:00:03\n",
      "     ------------------------------- ----- 495.4/587.7 MB 31.2 MB/s eta 0:00:03\n",
      "     ------------------------------- ----- 497.0/587.7 MB 31.2 MB/s eta 0:00:03\n",
      "     ------------------------------- ----- 498.7/587.7 MB 32.7 MB/s eta 0:00:03\n",
      "     ------------------------------- ----- 500.4/587.7 MB 32.8 MB/s eta 0:00:03\n",
      "     ------------------------------- ----- 501.7/587.7 MB 32.8 MB/s eta 0:00:03\n",
      "     ------------------------------- ----- 503.0/587.7 MB 32.8 MB/s eta 0:00:03\n",
      "     ------------------------------- ----- 504.6/587.7 MB 32.8 MB/s eta 0:00:03\n",
      "     ------------------------------- ----- 506.2/587.7 MB 32.7 MB/s eta 0:00:03\n",
      "     ------------------------------- ----- 507.9/587.7 MB 32.7 MB/s eta 0:00:03\n",
      "     -------------------------------- ---- 509.5/587.7 MB 32.7 MB/s eta 0:00:03\n",
      "     -------------------------------- ---- 510.9/587.7 MB 32.7 MB/s eta 0:00:03\n",
      "     -------------------------------- ---- 512.5/587.7 MB 32.8 MB/s eta 0:00:03\n",
      "     -------------------------------- ---- 514.1/587.7 MB 32.8 MB/s eta 0:00:03\n",
      "     -------------------------------- ---- 515.7/587.7 MB 32.8 MB/s eta 0:00:03\n",
      "     -------------------------------- ---- 517.3/587.7 MB 32.8 MB/s eta 0:00:03\n",
      "     -------------------------------- ---- 519.0/587.7 MB 32.7 MB/s eta 0:00:03\n",
      "     -------------------------------- ---- 520.6/587.7 MB 32.7 MB/s eta 0:00:03\n",
      "     -------------------------------- ---- 522.3/587.7 MB 34.4 MB/s eta 0:00:02\n",
      "     -------------------------------- ---- 524.0/587.7 MB 34.4 MB/s eta 0:00:02\n",
      "     --------------------------------- --- 525.8/587.7 MB 36.4 MB/s eta 0:00:02\n",
      "     --------------------------------- --- 527.6/587.7 MB 36.4 MB/s eta 0:00:02\n",
      "     --------------------------------- --- 529.0/587.7 MB 34.4 MB/s eta 0:00:02\n",
      "     --------------------------------- --- 530.7/587.7 MB 34.4 MB/s eta 0:00:02\n",
      "     --------------------------------- --- 532.4/587.7 MB 36.4 MB/s eta 0:00:02\n",
      "     --------------------------------- --- 534.1/587.7 MB 36.4 MB/s eta 0:00:02\n",
      "     --------------------------------- --- 535.8/587.7 MB 36.4 MB/s eta 0:00:02\n",
      "     --------------------------------- --- 537.6/587.7 MB 36.4 MB/s eta 0:00:02\n",
      "     --------------------------------- --- 539.3/587.7 MB 38.5 MB/s eta 0:00:02\n",
      "     ---------------------------------- -- 540.9/587.7 MB 36.3 MB/s eta 0:00:02\n",
      "     ---------------------------------- -- 542.7/587.7 MB 38.5 MB/s eta 0:00:02\n",
      "     ---------------------------------- -- 544.5/587.7 MB 38.6 MB/s eta 0:00:02\n",
      "     ---------------------------------- -- 546.0/587.7 MB 36.4 MB/s eta 0:00:02\n",
      "     ---------------------------------- -- 547.7/587.7 MB 36.4 MB/s eta 0:00:02\n",
      "     ---------------------------------- -- 549.5/587.7 MB 36.4 MB/s eta 0:00:02\n",
      "     ---------------------------------- -- 551.4/587.7 MB 38.5 MB/s eta 0:00:01\n",
      "     ---------------------------------- -- 553.3/587.7 MB 38.5 MB/s eta 0:00:01\n",
      "     ---------------------------------- -- 555.2/587.7 MB 38.5 MB/s eta 0:00:01\n",
      "     ----------------------------------- - 557.1/587.7 MB 40.9 MB/s eta 0:00:01\n",
      "     ----------------------------------- - 558.8/587.7 MB 40.9 MB/s eta 0:00:01\n",
      "     ----------------------------------- - 560.8/587.7 MB 40.9 MB/s eta 0:00:01\n",
      "     ----------------------------------- - 562.6/587.7 MB 40.9 MB/s eta 0:00:01\n",
      "     ----------------------------------- - 564.5/587.7 MB 40.9 MB/s eta 0:00:01\n",
      "     ----------------------------------- - 566.5/587.7 MB 40.9 MB/s eta 0:00:01\n",
      "     ----------------------------------- - 568.4/587.7 MB 40.9 MB/s eta 0:00:01\n",
      "     ----------------------------------- - 570.3/587.7 MB 40.9 MB/s eta 0:00:01\n",
      "     ------------------------------------  572.4/587.7 MB 40.9 MB/s eta 0:00:01\n",
      "     ------------------------------------  574.3/587.7 MB 40.9 MB/s eta 0:00:01\n",
      "     ------------------------------------  576.3/587.7 MB 40.9 MB/s eta 0:00:01\n",
      "     ------------------------------------  578.3/587.7 MB 40.9 MB/s eta 0:00:01\n",
      "     ------------------------------------  580.2/587.7 MB 40.9 MB/s eta 0:00:01\n",
      "     ------------------------------------  582.2/587.7 MB 40.9 MB/s eta 0:00:01\n",
      "     ------------------------------------  583.9/587.7 MB 40.9 MB/s eta 0:00:01\n",
      "     ------------------------------------  585.9/587.7 MB 40.9 MB/s eta 0:00:01\n",
      "     ------------------------------------  587.7/587.7 MB 40.9 MB/s eta 0:00:01\n",
      "     ------------------------------------  587.7/587.7 MB 40.9 MB/s eta 0:00:01\n",
      "     ------------------------------------  587.7/587.7 MB 40.9 MB/s eta 0:00:01\n",
      "     ------------------------------------  587.7/587.7 MB 40.9 MB/s eta 0:00:01\n",
      "     ------------------------------------  587.7/587.7 MB 40.9 MB/s eta 0:00:01\n",
      "     ------------------------------------  587.7/587.7 MB 40.9 MB/s eta 0:00:01\n",
      "     ------------------------------------  587.7/587.7 MB 40.9 MB/s eta 0:00:01\n",
      "     ------------------------------------  587.7/587.7 MB 40.9 MB/s eta 0:00:01\n",
      "     ------------------------------------  587.7/587.7 MB 40.9 MB/s eta 0:00:01\n",
      "     ------------------------------------  587.7/587.7 MB 40.9 MB/s eta 0:00:01\n",
      "     ------------------------------------  587.7/587.7 MB 40.9 MB/s eta 0:00:01\n",
      "     ------------------------------------  587.7/587.7 MB 40.9 MB/s eta 0:00:01\n",
      "     ------------------------------------  587.7/587.7 MB 40.9 MB/s eta 0:00:01\n",
      "     ------------------------------------  587.7/587.7 MB 40.9 MB/s eta 0:00:01\n",
      "     ------------------------------------  587.7/587.7 MB 40.9 MB/s eta 0:00:01\n",
      "     ------------------------------------  587.7/587.7 MB 40.9 MB/s eta 0:00:01\n",
      "     ------------------------------------  587.7/587.7 MB 40.9 MB/s eta 0:00:01\n",
      "     ------------------------------------  587.7/587.7 MB 40.9 MB/s eta 0:00:01\n",
      "     ------------------------------------  587.7/587.7 MB 40.9 MB/s eta 0:00:01\n",
      "     ------------------------------------  587.7/587.7 MB 40.9 MB/s eta 0:00:01\n",
      "     ------------------------------------  587.7/587.7 MB 40.9 MB/s eta 0:00:01\n",
      "     ------------------------------------  587.7/587.7 MB 40.9 MB/s eta 0:00:01\n",
      "     ------------------------------------  587.7/587.7 MB 40.9 MB/s eta 0:00:01\n",
      "     ------------------------------------  587.7/587.7 MB 40.9 MB/s eta 0:00:01\n",
      "     ------------------------------------  587.7/587.7 MB 40.9 MB/s eta 0:00:01\n",
      "     ------------------------------------  587.7/587.7 MB 40.9 MB/s eta 0:00:01\n",
      "     -------------------------------------- 587.7/587.7 MB 4.8 MB/s eta 0:00:00\n",
      "  Preparing metadata (setup.py): started\n",
      "  Preparing metadata (setup.py): finished with status 'done'\n",
      "Requirement already satisfied: spacy<3.5.0,>=3.4.0 in c:\\users\\yashd\\anaconda3\\lib\\site-packages (from en-core-web-lg==3.4.0) (3.4.4)\n",
      "Requirement already satisfied: spacy-legacy<3.1.0,>=3.0.10 in c:\\users\\yashd\\anaconda3\\lib\\site-packages (from spacy<3.5.0,>=3.4.0->en-core-web-lg==3.4.0) (3.0.12)\n",
      "Requirement already satisfied: spacy-loggers<2.0.0,>=1.0.0 in c:\\users\\yashd\\anaconda3\\lib\\site-packages (from spacy<3.5.0,>=3.4.0->en-core-web-lg==3.4.0) (1.0.5)\n",
      "Requirement already satisfied: murmurhash<1.1.0,>=0.28.0 in c:\\users\\yashd\\anaconda3\\lib\\site-packages (from spacy<3.5.0,>=3.4.0->en-core-web-lg==3.4.0) (1.0.10)\n",
      "Requirement already satisfied: cymem<2.1.0,>=2.0.2 in c:\\users\\yashd\\anaconda3\\lib\\site-packages (from spacy<3.5.0,>=3.4.0->en-core-web-lg==3.4.0) (2.0.8)\n",
      "Requirement already satisfied: preshed<3.1.0,>=3.0.2 in c:\\users\\yashd\\anaconda3\\lib\\site-packages (from spacy<3.5.0,>=3.4.0->en-core-web-lg==3.4.0) (3.0.9)\n",
      "Requirement already satisfied: thinc<8.2.0,>=8.1.0 in c:\\users\\yashd\\anaconda3\\lib\\site-packages (from spacy<3.5.0,>=3.4.0->en-core-web-lg==3.4.0) (8.1.12)\n",
      "Requirement already satisfied: wasabi<1.1.0,>=0.9.1 in c:\\users\\yashd\\anaconda3\\lib\\site-packages (from spacy<3.5.0,>=3.4.0->en-core-web-lg==3.4.0) (0.10.1)\n",
      "Requirement already satisfied: srsly<3.0.0,>=2.4.3 in c:\\users\\yashd\\anaconda3\\lib\\site-packages (from spacy<3.5.0,>=3.4.0->en-core-web-lg==3.4.0) (2.4.8)\n",
      "Requirement already satisfied: catalogue<2.1.0,>=2.0.6 in c:\\users\\yashd\\anaconda3\\lib\\site-packages (from spacy<3.5.0,>=3.4.0->en-core-web-lg==3.4.0) (2.0.10)\n",
      "Requirement already satisfied: typer<0.8.0,>=0.3.0 in c:\\users\\yashd\\anaconda3\\lib\\site-packages (from spacy<3.5.0,>=3.4.0->en-core-web-lg==3.4.0) (0.7.0)\n",
      "Requirement already satisfied: pathy>=0.3.5 in c:\\users\\yashd\\anaconda3\\lib\\site-packages (from spacy<3.5.0,>=3.4.0->en-core-web-lg==3.4.0) (0.11.0)\n",
      "Requirement already satisfied: smart-open<7.0.0,>=5.2.1 in c:\\users\\yashd\\anaconda3\\lib\\site-packages (from spacy<3.5.0,>=3.4.0->en-core-web-lg==3.4.0) (5.2.1)\n",
      "Requirement already satisfied: tqdm<5.0.0,>=4.38.0 in c:\\users\\yashd\\anaconda3\\lib\\site-packages (from spacy<3.5.0,>=3.4.0->en-core-web-lg==3.4.0) (4.65.0)\n",
      "Requirement already satisfied: numpy>=1.15.0 in c:\\users\\yashd\\anaconda3\\lib\\site-packages (from spacy<3.5.0,>=3.4.0->en-core-web-lg==3.4.0) (1.24.3)\n",
      "Requirement already satisfied: requests<3.0.0,>=2.13.0 in c:\\users\\yashd\\anaconda3\\lib\\site-packages (from spacy<3.5.0,>=3.4.0->en-core-web-lg==3.4.0) (2.31.0)\n",
      "Requirement already satisfied: pydantic!=1.8,!=1.8.1,<1.11.0,>=1.7.4 in c:\\users\\yashd\\anaconda3\\lib\\site-packages (from spacy<3.5.0,>=3.4.0->en-core-web-lg==3.4.0) (1.10.12)\n",
      "Requirement already satisfied: jinja2 in c:\\users\\yashd\\anaconda3\\lib\\site-packages (from spacy<3.5.0,>=3.4.0->en-core-web-lg==3.4.0) (3.1.2)\n",
      "Requirement already satisfied: setuptools in c:\\users\\yashd\\anaconda3\\lib\\site-packages (from spacy<3.5.0,>=3.4.0->en-core-web-lg==3.4.0) (68.0.0)\n",
      "Requirement already satisfied: packaging>=20.0 in c:\\users\\yashd\\anaconda3\\lib\\site-packages (from spacy<3.5.0,>=3.4.0->en-core-web-lg==3.4.0) (23.0)\n",
      "Requirement already satisfied: langcodes<4.0.0,>=3.2.0 in c:\\users\\yashd\\anaconda3\\lib\\site-packages (from spacy<3.5.0,>=3.4.0->en-core-web-lg==3.4.0) (3.3.0)\n",
      "Requirement already satisfied: pathlib-abc==0.1.1 in c:\\users\\yashd\\anaconda3\\lib\\site-packages (from pathy>=0.3.5->spacy<3.5.0,>=3.4.0->en-core-web-lg==3.4.0) (0.1.1)\n",
      "Requirement already satisfied: typing-extensions>=4.2.0 in c:\\users\\yashd\\anaconda3\\lib\\site-packages (from pydantic!=1.8,!=1.8.1,<1.11.0,>=1.7.4->spacy<3.5.0,>=3.4.0->en-core-web-lg==3.4.0) (4.7.1)\n",
      "Requirement already satisfied: charset-normalizer<4,>=2 in c:\\users\\yashd\\anaconda3\\lib\\site-packages (from requests<3.0.0,>=2.13.0->spacy<3.5.0,>=3.4.0->en-core-web-lg==3.4.0) (2.0.4)\n",
      "Requirement already satisfied: idna<4,>=2.5 in c:\\users\\yashd\\anaconda3\\lib\\site-packages (from requests<3.0.0,>=2.13.0->spacy<3.5.0,>=3.4.0->en-core-web-lg==3.4.0) (3.4)\n",
      "Requirement already satisfied: urllib3<3,>=1.21.1 in c:\\users\\yashd\\anaconda3\\lib\\site-packages (from requests<3.0.0,>=2.13.0->spacy<3.5.0,>=3.4.0->en-core-web-lg==3.4.0) (1.26.16)\n",
      "Requirement already satisfied: certifi>=2017.4.17 in c:\\users\\yashd\\anaconda3\\lib\\site-packages (from requests<3.0.0,>=2.13.0->spacy<3.5.0,>=3.4.0->en-core-web-lg==3.4.0) (2023.7.22)\n",
      "Requirement already satisfied: blis<0.8.0,>=0.7.8 in c:\\users\\yashd\\anaconda3\\lib\\site-packages (from thinc<8.2.0,>=8.1.0->spacy<3.5.0,>=3.4.0->en-core-web-lg==3.4.0) (0.7.11)\n",
      "Requirement already satisfied: confection<1.0.0,>=0.0.1 in c:\\users\\yashd\\anaconda3\\lib\\site-packages (from thinc<8.2.0,>=8.1.0->spacy<3.5.0,>=3.4.0->en-core-web-lg==3.4.0) (0.1.4)\n",
      "Requirement already satisfied: colorama in c:\\users\\yashd\\anaconda3\\lib\\site-packages (from tqdm<5.0.0,>=4.38.0->spacy<3.5.0,>=3.4.0->en-core-web-lg==3.4.0) (0.4.6)\n",
      "Requirement already satisfied: click<9.0.0,>=7.1.1 in c:\\users\\yashd\\anaconda3\\lib\\site-packages (from typer<0.8.0,>=0.3.0->spacy<3.5.0,>=3.4.0->en-core-web-lg==3.4.0) (8.0.4)\n",
      "Requirement already satisfied: MarkupSafe>=2.0 in c:\\users\\yashd\\anaconda3\\lib\\site-packages (from jinja2->spacy<3.5.0,>=3.4.0->en-core-web-lg==3.4.0) (2.1.1)\n"
     ]
    }
   ],
   "source": [
    "!pip install https://github.com/explosion/spacy-models/releases/download/en_core_web_lg-3.4.0/en_core_web_lg-3.4.0.tar.gz"
   ]
  },
  {
   "cell_type": "code",
   "execution_count": 55,
   "metadata": {
    "colab": {
     "base_uri": "https://localhost:8080/",
     "height": 206
    },
    "executionInfo": {
     "elapsed": 317,
     "status": "ok",
     "timestamp": 1712349884464,
     "user": {
      "displayName": "Akshat Sahu",
      "userId": "04820876765146263380"
     },
     "user_tz": 240
    },
    "id": "jOHFWSbUAOs-",
    "outputId": "a0d7ade5-cb99-409d-ef59-6d1a5c63b254"
   },
   "outputs": [
    {
     "data": {
      "text/html": [
       "<div>\n",
       "<style scoped>\n",
       "    .dataframe tbody tr th:only-of-type {\n",
       "        vertical-align: middle;\n",
       "    }\n",
       "\n",
       "    .dataframe tbody tr th {\n",
       "        vertical-align: top;\n",
       "    }\n",
       "\n",
       "    .dataframe thead th {\n",
       "        text-align: right;\n",
       "    }\n",
       "</style>\n",
       "<table border=\"1\" class=\"dataframe\">\n",
       "  <thead>\n",
       "    <tr style=\"text-align: right;\">\n",
       "      <th></th>\n",
       "      <th>text</th>\n",
       "      <th>label</th>\n",
       "      <th>cleaned_tweet</th>\n",
       "    </tr>\n",
       "  </thead>\n",
       "  <tbody>\n",
       "    <tr>\n",
       "      <th>0</th>\n",
       "      <td>Method moment phone. Ready level occur behavio...</td>\n",
       "      <td>0</td>\n",
       "      <td>method moment phone ready level occur behavior...</td>\n",
       "    </tr>\n",
       "    <tr>\n",
       "      <th>1</th>\n",
       "      <td>\"I’m sorry for coming to your life i know i ru...</td>\n",
       "      <td>1</td>\n",
       "      <td>sorry coming life know ruined</td>\n",
       "    </tr>\n",
       "    <tr>\n",
       "      <th>2</th>\n",
       "      <td>I  have no reason to live. so I'll just end it...</td>\n",
       "      <td>1</td>\n",
       "      <td>reason live end</td>\n",
       "    </tr>\n",
       "    <tr>\n",
       "      <th>3</th>\n",
       "      <td>Media majority film condition. Card however ne...</td>\n",
       "      <td>0</td>\n",
       "      <td>medium majority film condition card however ne...</td>\n",
       "    </tr>\n",
       "    <tr>\n",
       "      <th>4</th>\n",
       "      <td>Somedays it seems impossible to survive.  Bust...</td>\n",
       "      <td>1</td>\n",
       "      <td>somedays seems impossible survive busting as k...</td>\n",
       "    </tr>\n",
       "  </tbody>\n",
       "</table>\n",
       "</div>"
      ],
      "text/plain": [
       "                                                text  label  \\\n",
       "0  Method moment phone. Ready level occur behavio...      0   \n",
       "1  \"I’m sorry for coming to your life i know i ru...      1   \n",
       "2  I  have no reason to live. so I'll just end it...      1   \n",
       "3  Media majority film condition. Card however ne...      0   \n",
       "4  Somedays it seems impossible to survive.  Bust...      1   \n",
       "\n",
       "                                       cleaned_tweet  \n",
       "0  method moment phone ready level occur behavior...  \n",
       "1                      sorry coming life know ruined  \n",
       "2                                    reason live end  \n",
       "3  medium majority film condition card however ne...  \n",
       "4  somedays seems impossible survive busting as k...  "
      ]
     },
     "execution_count": 55,
     "metadata": {},
     "output_type": "execute_result"
    }
   ],
   "source": [
    "final_data = final_data.sample(frac=1).reset_index(drop=True)\n",
    "final_data.head()"
   ]
  },
  {
   "cell_type": "code",
   "execution_count": 56,
   "metadata": {},
   "outputs": [],
   "source": [
    "# !python3 -m spacy download en_core_web_lg"
   ]
  },
  {
   "cell_type": "code",
   "execution_count": 57,
   "metadata": {},
   "outputs": [],
   "source": [
    "data = pd.read_csv(\"final_data.csv\", sep=\"\\t\")"
   ]
  },
  {
   "cell_type": "code",
   "execution_count": 58,
   "metadata": {
    "executionInfo": {
     "elapsed": 4355,
     "status": "ok",
     "timestamp": 1712349888817,
     "user": {
      "displayName": "Akshat Sahu",
      "userId": "04820876765146263380"
     },
     "user_tz": 240
    },
    "id": "r5rBuaZIxl4M"
   },
   "outputs": [
    {
     "name": "stdout",
     "output_type": "stream",
     "text": [
      "WARNING:tensorflow:From C:\\Users\\yashd\\anaconda3\\Lib\\site-packages\\keras\\src\\losses.py:2976: The name tf.losses.sparse_softmax_cross_entropy is deprecated. Please use tf.compat.v1.losses.sparse_softmax_cross_entropy instead.\n",
      "\n"
     ]
    }
   ],
   "source": [
    "import spacy\n",
    "\n",
    "nlp = spacy.load(\"en_core_web_lg\")"
   ]
  },
  {
   "cell_type": "code",
   "execution_count": 59,
   "metadata": {
    "executionInfo": {
     "elapsed": 462555,
     "status": "ok",
     "timestamp": 1712350351370,
     "user": {
      "displayName": "Akshat Sahu",
      "userId": "04820876765146263380"
     },
     "user_tz": 240
    },
    "id": "2_F9pRa8Fa9Q"
   },
   "outputs": [],
   "source": [
    "## word-embedding\n",
    "all_vectors = np.array(\n",
    "    [\n",
    "        np.array([token.vector for token in nlp(s)]).mean(axis=0) * np.ones((300))\n",
    "        for s in data[\"clean_text\"]\n",
    "    ]\n",
    ")"
   ]
  },
  {
   "cell_type": "code",
   "execution_count": 61,
   "metadata": {
    "executionInfo": {
     "elapsed": 19,
     "status": "ok",
     "timestamp": 1712350351371,
     "user": {
      "displayName": "Akshat Sahu",
      "userId": "04820876765146263380"
     },
     "user_tz": 240
    },
    "id": "rDa6ok1o6WbA"
   },
   "outputs": [],
   "source": [
    "from sklearn.model_selection import train_test_split\n",
    "\n",
    "Y = data[\"label\"]\n",
    "X = all_vectors\n",
    "\n",
    "validation_size = 0.3\n",
    "X_train, X_test, Y_train, Y_test = train_test_split(\n",
    "    X, Y, test_size=validation_size, random_state=40\n",
    ")"
   ]
  },
  {
   "cell_type": "code",
   "execution_count": 62,
   "metadata": {
    "executionInfo": {
     "elapsed": 3,
     "status": "ok",
     "timestamp": 1712350351371,
     "user": {
      "displayName": "Akshat Sahu",
      "userId": "04820876765146263380"
     },
     "user_tz": 240
    },
    "id": "0A9qXTD26ce7"
   },
   "outputs": [],
   "source": [
    "# Create a svm Classifier\n",
    "from sklearn.svm import SVC\n",
    "\n",
    "clf = SVC(probability=True)"
   ]
  },
  {
   "cell_type": "code",
   "execution_count": 63,
   "metadata": {
    "executionInfo": {
     "elapsed": 10712,
     "status": "ok",
     "timestamp": 1712350362080,
     "user": {
      "displayName": "Akshat Sahu",
      "userId": "04820876765146263380"
     },
     "user_tz": 240
    },
    "id": "9QfaNbkJ6lUD"
   },
   "outputs": [],
   "source": [
    "from sklearn.metrics import accuracy_score\n",
    "\n",
    "res = clf.fit(X_train, Y_train)\n",
    "train_result = accuracy_score(res.predict(X_train), Y_train)\n",
    "test_result = accuracy_score(res.predict(X_test), Y_test)"
   ]
  },
  {
   "cell_type": "code",
   "execution_count": 64,
   "metadata": {
    "colab": {
     "base_uri": "https://localhost:8080/"
    },
    "executionInfo": {
     "elapsed": 21,
     "status": "ok",
     "timestamp": 1712350362081,
     "user": {
      "displayName": "Akshat Sahu",
      "userId": "04820876765146263380"
     },
     "user_tz": 240
    },
    "id": "Cj_7BhXr6mRA",
    "outputId": "5c6a58cc-6a45-4433-a80b-535382cd1b22"
   },
   "outputs": [
    {
     "name": "stdout",
     "output_type": "stream",
     "text": [
      "train_result: test_result: 0.8931000971817298 0.8489229024943311\n"
     ]
    }
   ],
   "source": [
    "print(\"train_result:\", \"test_result:\", train_result, test_result, sep=\" \")"
   ]
  },
  {
   "cell_type": "code",
   "execution_count": 65,
   "metadata": {
    "executionInfo": {
     "elapsed": 16,
     "status": "ok",
     "timestamp": 1712350362081,
     "user": {
      "displayName": "Akshat Sahu",
      "userId": "04820876765146263380"
     },
     "user_tz": 240
    },
    "id": "a40sP_Li63xB"
   },
   "outputs": [],
   "source": [
    "from sklearn.metrics import confusion_matrix, accuracy_score\n",
    "from sklearn.metrics import classification_report as skm\n",
    "from sklearn.metrics import classification_report\n",
    "\n",
    "\n",
    "def conf_matrix_acc(y_true, y_pred):\n",
    "    ## Plot confusion matrix\n",
    "    cm = confusion_matrix(y_true, y_pred)\n",
    "    fig, ax = plt.subplots()\n",
    "    sns.heatmap(cm, annot=True, fmt=\"d\", ax=ax, cmap=plt.cm.Blues, cbar=False)\n",
    "    ax.set(\n",
    "        xlabel=\"Pred\",\n",
    "        ylabel=\"True\",\n",
    "        xticklabels=classes,\n",
    "        yticklabels=classes,\n",
    "        title=\"Confusion matrix\",\n",
    "    )\n",
    "    plt.yticks(rotation=0)\n",
    "    print(\"=========================================\")\n",
    "    print(f\"Accuracy score is : {accuracy_score(y_true, y_pred)}\")\n",
    "    print(\"=========================================\")\n",
    "    print(\"Detail:\")\n",
    "    print(classification_report(y_true, y_pred))"
   ]
  },
  {
   "cell_type": "code",
   "execution_count": 66,
   "metadata": {
    "colab": {
     "base_uri": "https://localhost:8080/",
     "height": 698
    },
    "executionInfo": {
     "elapsed": 1374,
     "status": "ok",
     "timestamp": 1712350363440,
     "user": {
      "displayName": "Akshat Sahu",
      "userId": "04820876765146263380"
     },
     "user_tz": 240
    },
    "id": "juwQg7hr7NYh",
    "outputId": "20ebda9c-9563-437b-c528-12964fc0d28d"
   },
   "outputs": [
    {
     "name": "stdout",
     "output_type": "stream",
     "text": [
      "=========================================\n",
      "Accuracy score is : 0.8489229024943311\n",
      "=========================================\n",
      "Detail:\n",
      "              precision    recall  f1-score   support\n",
      "\n",
      "           0       0.84      0.87      0.86      3631\n",
      "           1       0.85      0.83      0.84      3425\n",
      "\n",
      "    accuracy                           0.85      7056\n",
      "   macro avg       0.85      0.85      0.85      7056\n",
      "weighted avg       0.85      0.85      0.85      7056\n",
      "\n"
     ]
    },
    {
     "data": {
      "image/png": "[encoded data removed]",
      "text/plain": [
       "<Figure size 640x480 with 1 Axes>"
      ]
     },
     "metadata": {},
     "output_type": "display_data"
    }
   ],
   "source": [
    "y_pred_svm = res.predict(X_test)\n",
    "classes = np.unique(Y_test.to_list())\n",
    "y_test_array = pd.get_dummies(Y_test, drop_first=False).values\n",
    "probs = res.predict_proba(X_test)\n",
    "conf_matrix_acc(Y_test.to_list(), y_pred_svm)"
   ]
  },
  {
   "cell_type": "code",
   "execution_count": 67,
   "metadata": {
    "id": "xtqT4yxqDU08"
   },
   "outputs": [],
   "source": [
    "from sklearn.model_selection import train_test_split\n",
    "from sklearn.tree import DecisionTreeClassifier"
   ]
  },
  {
   "cell_type": "code",
   "execution_count": 68,
   "metadata": {},
   "outputs": [],
   "source": [
    "# Create a decision tree classifier and fit it to the training data\n",
    "Y = data[\"label\"]\n",
    "X = all_vectors\n",
    "\n",
    "validation_size = 0.3\n",
    "X_train, X_test, Y_train, Y_test = train_test_split(\n",
    "    X, Y, test_size=validation_size, random_state=40\n",
    ")"
   ]
  },
  {
   "cell_type": "code",
   "execution_count": 69,
   "metadata": {},
   "outputs": [
    {
     "data": {
      "text/html": [
       "<style>#sk-container-id-1 {color: black;}#sk-container-id-1 pre{padding: 0;}#sk-container-id-1 div.sk-toggleable {background-color: white;}#sk-container-id-1 label.sk-toggleable__label {cursor: pointer;display: block;width: 100%;margin-bottom: 0;padding: 0.3em;box-sizing: border-box;text-align: center;}#sk-container-id-1 label.sk-toggleable__label-arrow:before {content: \"▸\";float: left;margin-right: 0.25em;color: #696969;}#sk-container-id-1 label.sk-toggleable__label-arrow:hover:before {color: black;}#sk-container-id-1 div.sk-estimator:hover label.sk-toggleable__label-arrow:before {color: black;}#sk-container-id-1 div.sk-toggleable__content {max-height: 0;max-width: 0;overflow: hidden;text-align: left;background-color: #f0f8ff;}#sk-container-id-1 div.sk-toggleable__content pre {margin: 0.2em;color: black;border-radius: 0.25em;background-color: #f0f8ff;}#sk-container-id-1 input.sk-toggleable__control:checked~div.sk-toggleable__content {max-height: 200px;max-width: 100%;overflow: auto;}#sk-container-id-1 input.sk-toggleable__control:checked~label.sk-toggleable__label-arrow:before {content: \"▾\";}#sk-container-id-1 div.sk-estimator input.sk-toggleable__control:checked~label.sk-toggleable__label {background-color: #d4ebff;}#sk-container-id-1 div.sk-label input.sk-toggleable__control:checked~label.sk-toggleable__label {background-color: #d4ebff;}#sk-container-id-1 input.sk-hidden--visually {border: 0;clip: rect(1px 1px 1px 1px);clip: rect(1px, 1px, 1px, 1px);height: 1px;margin: -1px;overflow: hidden;padding: 0;position: absolute;width: 1px;}#sk-container-id-1 div.sk-estimator {font-family: monospace;background-color: #f0f8ff;border: 1px dotted black;border-radius: 0.25em;box-sizing: border-box;margin-bottom: 0.5em;}#sk-container-id-1 div.sk-estimator:hover {background-color: #d4ebff;}#sk-container-id-1 div.sk-parallel-item::after {content: \"\";width: 100%;border-bottom: 1px solid gray;flex-grow: 1;}#sk-container-id-1 div.sk-label:hover label.sk-toggleable__label {background-color: #d4ebff;}#sk-container-id-1 div.sk-serial::before {content: \"\";position: absolute;border-left: 1px solid gray;box-sizing: border-box;top: 0;bottom: 0;left: 50%;z-index: 0;}#sk-container-id-1 div.sk-serial {display: flex;flex-direction: column;align-items: center;background-color: white;padding-right: 0.2em;padding-left: 0.2em;position: relative;}#sk-container-id-1 div.sk-item {position: relative;z-index: 1;}#sk-container-id-1 div.sk-parallel {display: flex;align-items: stretch;justify-content: center;background-color: white;position: relative;}#sk-container-id-1 div.sk-item::before, #sk-container-id-1 div.sk-parallel-item::before {content: \"\";position: absolute;border-left: 1px solid gray;box-sizing: border-box;top: 0;bottom: 0;left: 50%;z-index: -1;}#sk-container-id-1 div.sk-parallel-item {display: flex;flex-direction: column;z-index: 1;position: relative;background-color: white;}#sk-container-id-1 div.sk-parallel-item:first-child::after {align-self: flex-end;width: 50%;}#sk-container-id-1 div.sk-parallel-item:last-child::after {align-self: flex-start;width: 50%;}#sk-container-id-1 div.sk-parallel-item:only-child::after {width: 0;}#sk-container-id-1 div.sk-dashed-wrapped {border: 1px dashed gray;margin: 0 0.4em 0.5em 0.4em;box-sizing: border-box;padding-bottom: 0.4em;background-color: white;}#sk-container-id-1 div.sk-label label {font-family: monospace;font-weight: bold;display: inline-block;line-height: 1.2em;}#sk-container-id-1 div.sk-label-container {text-align: center;}#sk-container-id-1 div.sk-container {/* jupyter's `normalize.less` sets `[hidden] { display: none; }` but bootstrap.min.css set `[hidden] { display: none !important; }` so we also need the `!important` here to be able to override the default hidden behavior on the sphinx rendered scikit-learn.org. See: https://github.com/scikit-learn/scikit-learn/issues/21755 */display: inline-block !important;position: relative;}#sk-container-id-1 div.sk-text-repr-fallback {display: none;}</style><div id=\"sk-container-id-1\" class=\"sk-top-container\"><div class=\"sk-text-repr-fallback\"><pre>DecisionTreeClassifier()</pre><b>In a Jupyter environment, please rerun this cell to show the HTML representation or trust the notebook. <br />On GitHub, the HTML representation is unable to render, please try loading this page with nbviewer.org.</b></div><div class=\"sk-container\" hidden><div class=\"sk-item\"><div class=\"sk-estimator sk-toggleable\"><input class=\"sk-toggleable__control sk-hidden--visually\" id=\"sk-estimator-id-1\" type=\"checkbox\" checked><label for=\"sk-estimator-id-1\" class=\"sk-toggleable__label sk-toggleable__label-arrow\">DecisionTreeClassifier</label><div class=\"sk-toggleable__content\"><pre>DecisionTreeClassifier()</pre></div></div></div></div></div>"
      ],
      "text/plain": [
       "DecisionTreeClassifier()"
      ]
     },
     "execution_count": 69,
     "metadata": {},
     "output_type": "execute_result"
    }
   ],
   "source": [
    "# Create a decision tree classifier and fit it to the training data\n",
    "clf = DecisionTreeClassifier()\n",
    "clf.fit(X_train, Y_train)"
   ]
  },
  {
   "cell_type": "code",
   "execution_count": 70,
   "metadata": {
    "scrolled": true
   },
   "outputs": [
    {
     "name": "stdout",
     "output_type": "stream",
     "text": [
      "=========================================\n",
      "Accuracy score is : 0.7341269841269841\n",
      "=========================================\n",
      "Detail:\n",
      "              precision    recall  f1-score   support\n",
      "\n",
      "           0       0.74      0.74      0.74      3631\n",
      "           1       0.72      0.73      0.73      3425\n",
      "\n",
      "    accuracy                           0.73      7056\n",
      "   macro avg       0.73      0.73      0.73      7056\n",
      "weighted avg       0.73      0.73      0.73      7056\n",
      "\n"
     ]
    },
    {
     "data": {
      "image/png": "[encoded data removed]",
      "text/plain": [
       "<Figure size 640x480 with 1 Axes>"
      ]
     },
     "metadata": {},
     "output_type": "display_data"
    }
   ],
   "source": [
    "y_pred_dt = clf.predict(X_test)\n",
    "classes = np.unique(Y_test.to_list())\n",
    "y_test_array = pd.get_dummies(Y_test, drop_first=False).values\n",
    "probs = clf.predict_proba(X_test)\n",
    "conf_matrix_acc(Y_test.to_list(), y_pred_dt)"
   ]
  },
  {
   "cell_type": "code",
   "execution_count": 75,
   "metadata": {},
   "outputs": [
    {
     "data": {
      "image/png": "[encoded data removed]",
      "text/plain": [
       "<Figure size 640x480 with 1 Axes>"
      ]
     },
     "metadata": {},
     "output_type": "display_data"
    }
   ],
   "source": [
    "from sklearn.metrics import precision_recall_curve, auc\n",
    "\n",
    "precision, recall, _ = precision_recall_curve(Y_test, y_pred_dt)\n",
    "pr_auc = auc(recall, precision)\n",
    "plt.figure()\n",
    "plt.plot(recall, precision, color='blue', lw=2, label='PR curve (area = %0.2f)' % pr_auc)\n",
    "plt.xlabel('Recall')\n",
    "plt.ylabel('Precision')\n",
    "plt.title('Precision-Recall Curve')\n",
    "plt.legend(loc=\"lower right\")\n",
    "plt.show()"
   ]
  },
  {
   "cell_type": "code",
   "execution_count": null,
   "metadata": {},
   "outputs": [],
   "source": []
  }
 ],
 "metadata": {
  "colab": {
   "provenance": []
  },
  "kernelspec": {
   "display_name": "Python 3 (ipykernel)",
   "language": "python",
   "name": "python3"
  },
  "language_info": {
   "codemirror_mode": {
    "name": "ipython",
    "version": 3
   },
   "file_extension": ".py",
   "mimetype": "text/x-python",
   "name": "python",
   "nbconvert_exporter": "python",
   "pygments_lexer": "ipython3",
   "version": "3.11.4"
  }
 },
 "nbformat": 4,
 "nbformat_minor": 1
}
